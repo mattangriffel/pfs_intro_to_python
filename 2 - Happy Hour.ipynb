{
 "cells": [
  {
   "cell_type": "markdown",
   "metadata": {},
   "source": [
    "# Happy Hour"
   ]
  },
  {
   "cell_type": "code",
   "execution_count": null,
   "metadata": {},
   "outputs": [],
   "source": [
    "import random\n",
    "\n",
    "bars = [\"The Hamilton\",\n",
    "        \"1020 Bar\",\n",
    "        \"The Heights\",\n",
    "        \"The Dead Poet\"]\n",
    "\n",
    "people = [\"Mattan\",\n",
    "          \"that person you forgot to text back\",\n",
    "          \"Glenn Hubbard\",\n",
    "          \"Samule L. Jackson\"]\n",
    "\n",
    "random_bar = random.choice(bars)\n",
    "random_person = random.choice(people)\n",
    "\n",
    "print(f\"How about you go to {random_bar} with {random_person}?\")"
   ]
  }
 ],
 "metadata": {
  "kernelspec": {
   "display_name": "Python 3",
   "language": "python",
   "name": "python3"
  },
  "language_info": {
   "codemirror_mode": {
    "name": "ipython",
    "version": 3
   },
   "file_extension": ".py",
   "mimetype": "text/x-python",
   "name": "python",
   "nbconvert_exporter": "python",
   "pygments_lexer": "ipython3",
   "version": "3.7.1"
  }
 },
 "nbformat": 4,
 "nbformat_minor": 2
}
