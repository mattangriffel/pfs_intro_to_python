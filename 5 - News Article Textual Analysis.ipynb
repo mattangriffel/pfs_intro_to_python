{
 "cells": [
  {
   "cell_type": "markdown",
   "metadata": {},
   "source": [
    "# Textual Analysis in Python"
   ]
  },
  {
   "cell_type": "code",
   "execution_count": 1,
   "metadata": {},
   "outputs": [
    {
     "name": "stdout",
     "output_type": "stream",
     "text": [
      "Collecting newspaper3k\n",
      "  Using cached https://files.pythonhosted.org/packages/d7/b9/51afecb35bb61b188a4b44868001de348a0e8134b4dfa00ffc191567c4b9/newspaper3k-0.2.8-py3-none-any.whl\n",
      "Requirement already satisfied: nltk>=3.2.1 in /Users/mattangriffel/anaconda3/lib/python3.7/site-packages (from newspaper3k) (3.4)\n",
      "Requirement already satisfied: python-dateutil>=2.5.3 in /Users/mattangriffel/anaconda3/lib/python3.7/site-packages (from newspaper3k) (2.7.5)\n",
      "Requirement already satisfied: tinysegmenter==0.3 in /Users/mattangriffel/anaconda3/lib/python3.7/site-packages (from newspaper3k) (0.3)\n",
      "Requirement already satisfied: tldextract>=2.0.1 in /Users/mattangriffel/anaconda3/lib/python3.7/site-packages (from newspaper3k) (2.2.0)\n",
      "Requirement already satisfied: requests>=2.10.0 in /Users/mattangriffel/anaconda3/lib/python3.7/site-packages (from newspaper3k) (2.21.0)\n",
      "Requirement already satisfied: PyYAML>=3.11 in /Users/mattangriffel/anaconda3/lib/python3.7/site-packages (from newspaper3k) (3.13)\n",
      "Requirement already satisfied: feedfinder2>=0.0.4 in /Users/mattangriffel/anaconda3/lib/python3.7/site-packages (from newspaper3k) (0.0.4)\n",
      "Requirement already satisfied: beautifulsoup4>=4.4.1 in /Users/mattangriffel/anaconda3/lib/python3.7/site-packages (from newspaper3k) (4.6.3)\n",
      "Requirement already satisfied: lxml>=3.6.0 in /Users/mattangriffel/anaconda3/lib/python3.7/site-packages (from newspaper3k) (4.2.5)\n",
      "Requirement already satisfied: Pillow>=3.3.0 in /Users/mattangriffel/anaconda3/lib/python3.7/site-packages (from newspaper3k) (5.3.0)\n",
      "Requirement already satisfied: jieba3k>=0.35.1 in /Users/mattangriffel/anaconda3/lib/python3.7/site-packages (from newspaper3k) (0.35.1)\n",
      "Requirement already satisfied: cssselect>=0.9.2 in /Users/mattangriffel/anaconda3/lib/python3.7/site-packages (from newspaper3k) (1.0.3)\n",
      "Requirement already satisfied: feedparser>=5.2.1 in /Users/mattangriffel/anaconda3/lib/python3.7/site-packages (from newspaper3k) (5.2.1)\n",
      "Requirement already satisfied: six in /Users/mattangriffel/anaconda3/lib/python3.7/site-packages (from nltk>=3.2.1->newspaper3k) (1.12.0)\n",
      "Requirement already satisfied: singledispatch in /Users/mattangriffel/anaconda3/lib/python3.7/site-packages (from nltk>=3.2.1->newspaper3k) (3.4.0.3)\n",
      "Requirement already satisfied: setuptools in /Users/mattangriffel/anaconda3/lib/python3.7/site-packages (from tldextract>=2.0.1->newspaper3k) (40.6.3)\n",
      "Requirement already satisfied: idna in /Users/mattangriffel/anaconda3/lib/python3.7/site-packages (from tldextract>=2.0.1->newspaper3k) (2.8)\n",
      "Requirement already satisfied: requests-file>=1.4 in /Users/mattangriffel/anaconda3/lib/python3.7/site-packages (from tldextract>=2.0.1->newspaper3k) (1.4.3)\n",
      "Requirement already satisfied: certifi>=2017.4.17 in /Users/mattangriffel/anaconda3/lib/python3.7/site-packages (from requests>=2.10.0->newspaper3k) (2018.11.29)\n",
      "Requirement already satisfied: chardet<3.1.0,>=3.0.2 in /Users/mattangriffel/anaconda3/lib/python3.7/site-packages (from requests>=2.10.0->newspaper3k) (3.0.4)\n",
      "Requirement already satisfied: urllib3<1.25,>=1.21.1 in /Users/mattangriffel/anaconda3/lib/python3.7/site-packages (from requests>=2.10.0->newspaper3k) (1.24.1)\n",
      "Installing collected packages: newspaper3k\n",
      "Successfully installed newspaper3k-0.2.8\n"
     ]
    }
   ],
   "source": [
    "!pip install newspaper3k"
   ]
  },
  {
   "cell_type": "code",
   "execution_count": 2,
   "metadata": {},
   "outputs": [],
   "source": [
    "from newspaper import Article\n",
    "import nltk"
   ]
  },
  {
   "cell_type": "markdown",
   "metadata": {},
   "source": [
    "# Extracting Text from News Articles"
   ]
  },
  {
   "cell_type": "code",
   "execution_count": 3,
   "metadata": {},
   "outputs": [],
   "source": [
    "url = \"https://venturebeat.com/2019/02/26/facebook-introduces-new-video-ad-programs-says-100-million-people-watch-content-eligible-for-in-stream-reserve/\"\n",
    "article = Article(url)\n",
    "article.download()"
   ]
  },
  {
   "cell_type": "code",
   "execution_count": 4,
   "metadata": {
    "scrolled": true
   },
   "outputs": [
    {
     "data": {
      "text/plain": [
       "'<!DOCTYPE html>\\n<!--[if lt IE 7]> <html class=\"no-js ie6 oldie\" lang=\"en-US\" prefix=\"og: http://ogp.me/ns#\" xmlns:og=\"http://opengraphprotocol.org/schema/\" xmlns:fb=\"http://www.facebook.com/2008/fbml\" xmlns:addthis=\"http://www.addthis.com/help/api-spec\"> <![endif]-->\\n<!--[if IE 7]>    <html class=\"no-js ie7 oldie\" lang=\"en-US\" prefix=\"og: http://ogp.me/ns#\" xmlns:og=\"http://opengraphprotocol.org/schema/\" xmlns:fb=\"http://www.facebook.com/2008/fbml\" xmlns:addthis=\"http://www.addthis.com/help/api-spec\"> <![endif]-->\\n<!--[if IE 8]>    <html class=\"no-js ie8 oldie\" lang=\"en-US\" prefix=\"og: http://ogp.me/ns#\" xmlns:og=\"http://opengraphprotocol.org/schema/\" xmlns:fb=\"http://www.facebook.com/2008/fbml\" xmlns:addthis=\"http://www.addthis.com/help/api-spec\"> <![endif]-->\\n<!--[if gt IE 8]><!--> <html class=\"no-js\" lang=\"en-US\" prefix=\"og: http://ogp.me/ns#\" xmlns:og=\"http://opengraphprotocol.org/schema/\" xmlns:fb=\"http://www.facebook.com/2008/fbml\"> <!--<![endif]-->\\n<head profile=\"http://gmpg.org/xfn/11\">\\n\\t<meta http-equiv=\"Content-Type\" content=\"text/html; charset=UTF-8\" />\\n\\t<meta http-equiv=\"X-UA-Compatible\" content=\"IE=edge,chrome=IE6\" />\\n\\t<meta http-equiv=\"cleartype\" content=\"on\">\\n\\t<meta name=\"viewport\" content=\"width=device-width, initial-scale=1.0\" />\\n\\n\\t<title>Facebook introduces new video ad programs, says 100 million people watch content eligible for In-Stream Reserve | VentureBeat</title>\\n\\n\\t<link rel=\"profile\" href=\"http://gmpg.org/xfn/11\" />\\n\\t<link rel=\"alternate\" type=\"application/rss+xml\" title=\"VentureBeat Feed\" href=\"//feeds.feedburner.com/venturebeat/SZYF\" />\\n\\t<!-- HTML5 shim and Respond.js IE8 support of HTML5 elements and media queries -->\\n\\t<!--[if lt IE 9]>\\n\\t\\t<script src=\"https://venturebeat.com/wp-content/themes/vb-news/js/ie/html5shiv.js\"></script>\\n\\t\\t<script src=\"https://venturebeat.com/wp-content/themes/vb-news/js/ie/assets/js/respond.min.js\"></script>\\n\\t<![endif]-->\\n\\n\\t\\n<!-- This site is optimized with the Yoast SEO Premium plugin v9.6.1 - https://yoast.com/wordpress/plugins/seo/ -->\\n<meta name=\"description\" content=\"Facebook today announced an update on its video platform. It&#039;s introducing new ad options for brands and new shows for Facebook Watch.\"/>\\n<link rel=\"canonical\" href=\"https://venturebeat.com/2019/02/26/facebook-introduces-new-video-ad-programs-says-100-million-people-watch-content-eligible-for-in-stream-reserve/\" />\\n<meta property=\"og:locale\" content=\"en_US\" />\\n<meta property=\"og:type\" content=\"article\" />\\n<meta property=\"og:title\" content=\"Facebook introduces new video ad programs, says 100 million people watch content eligible for In-Stream Reserve\" />\\n<meta property=\"og:description\" content=\"Facebook today announced an update on its video platform. It&#039;s introducing new ad options for brands and new shows for Facebook Watch.\" />\\n<meta property=\"og:url\" content=\"https://venturebeat.com/2019/02/26/facebook-introduces-new-video-ad-programs-says-100-million-people-watch-content-eligible-for-in-stream-reserve/\" />\\n<meta property=\"og:site_name\" content=\"VentureBeat\" />\\n<meta property=\"article:publisher\" content=\"https://www.facebook.com/venturebeat/\" />\\n<meta property=\"article:tag\" content=\"advertising\" />\\n<meta property=\"article:tag\" content=\"category-/Arts &amp; Entertainment/Online Media\" />\\n<meta property=\"article:tag\" content=\"category-/Arts &amp; Entertainment/TV &amp; Video/Online Video\" />\\n<meta property=\"article:tag\" content=\"category-/Business &amp; Industrial/Business Services\" />\\n<meta property=\"article:tag\" content=\"Facebook\" />\\n<meta property=\"article:tag\" content=\"In-Stream Reserve\" />\\n<meta property=\"article:tag\" content=\"marketing\" />\\n<meta property=\"article:tag\" content=\"Video\" />\\n<meta property=\"article:section\" content=\"Media\" />\\n<meta property=\"article:published_time\" content=\"2019-02-26T15:45:20+00:00\" />\\n<meta property=\"article:modified_time\" content=\"2019-02-26T15:52:11+00:00\" />\\n<meta property=\"og:updated_time\" content=\"2019-02-26T15:52:11+00:00\" />\\n<meta property=\"og:image\" content=\"https://venturebeat.com/wp-content/uploads/2017/08/newsroom-hero_android_v3_2x.png?w=1200&#038;strip=all\" />\\n<meta property=\"og:image:secure_url\" content=\"https://venturebeat.com/wp-content/uploads/2017/08/newsroom-hero_android_v3_2x.png?w=1200&#038;strip=all\" />\\n<meta property=\"og:image:width\" content=\"1444\" />\\n<meta property=\"og:image:height\" content=\"1000\" />\\n<meta name=\"twitter:card\" content=\"summary_large_image\" />\\n<meta name=\"twitter:description\" content=\"Facebook today announced an update on its video platform. It&#039;s introducing new ad options for brands and new shows for Facebook Watch.\" />\\n<meta name=\"twitter:title\" content=\"Facebook introduces new video ad programs, says 100 million people watch content eligible for In-Stream Reserve\" />\\n<meta name=\"twitter:site\" content=\"@venturebeat\" />\\n<meta name=\"twitter:image\" content=\"https://venturebeat.com/wp-content/uploads/2017/08/newsroom-hero_android_v3_2x.png?w=1200&#038;strip=all\" />\\n<meta name=\"twitter:creator\" content=\"@venturebeat\" />\\n<!-- / Yoast SEO Premium plugin. -->\\n\\n<link rel=\\'dns-prefetch\\' href=\\'//s.w.org\\' />\\n<link rel=\"alternate\" type=\"application/rss+xml\" title=\"VentureBeat &raquo; Facebook introduces new video ad programs, says 100 million people watch content eligible for In-Stream Reserve Comments Feed\" href=\"https://venturebeat.com/2019/02/26/facebook-introduces-new-video-ad-programs-says-100-million-people-watch-content-eligible-for-in-stream-reserve/feed/\" />\\n<link rel=\\'stylesheet\\' id=\\'all-css-0\\' href=\\'https://venturebeat.com/_static/??/wp-content/themes/vb-news/styles/bootstrap-base.article.css,/wp-includes/css/dist/block-library/style.min.css?m=1550883307\\' type=\\'text/css\\' media=\\'all\\' />\\n<link rel=\\'https://api.w.org/\\' href=\\'https://venturebeat.com/wp-json/\\' />\\n<link rel=\"EditURI\" type=\"application/rsd+xml\" title=\"RSD\" href=\"https://venturebeat.com/xmlrpc.php?rsd\" />\\n<link rel=\"wlwmanifest\" type=\"application/wlwmanifest+xml\" href=\"https://venturebeat.com/wp-includes/wlwmanifest.xml\" /> \\n<meta name=\"generator\" content=\"WordPress 5.1\" />\\n<link rel=\\'shortlink\\' href=\\'https://wp.me/p8wLEc-am2P\\' />\\n<link rel=\"alternate\" type=\"application/json+oembed\" href=\"https://venturebeat.com/wp-json/oembed/1.0/embed?url=https%3A%2F%2Fventurebeat.com%2F2019%2F02%2F26%2Ffacebook-introduces-new-video-ad-programs-says-100-million-people-watch-content-eligible-for-in-stream-reserve%2F\" />\\n<link rel=\"alternate\" type=\"text/xml+oembed\" href=\"https://venturebeat.com/wp-json/oembed/1.0/embed?url=https%3A%2F%2Fventurebeat.com%2F2019%2F02%2F26%2Ffacebook-introduces-new-video-ad-programs-says-100-million-people-watch-content-eligible-for-in-stream-reserve%2F&#038;format=xml\" />\\n\\r\\n<link rel=\\'dns-prefetch\\' href=\\'//v0.wordpress.com\\'/>\\r\\n<style type=\\'text/css\\'>img#wpstats{display:none}</style><meta property=\"fb:pages\" content=\"7419689078\">\\t\\t\\t<script type=\"application/ld+json\">\\n\\t\\t\\t\\t{\"@context\":\"http:\\\\/\\\\/schema.org\",\"@type\":\"NewsArticle\",\"mainEntityOfPage\":\"https:\\\\/\\\\/venturebeat.com\\\\/2019\\\\/02\\\\/26\\\\/facebook-introduces-new-video-ad-programs-says-100-million-people-watch-content-eligible-for-in-stream-reserve\\\\/\",\"headline\":\"Facebook introduces new video ad programs, says 100 million people watch content eligible for In-Stream Reserve\",\"datePublished\":\"2019-02-26T15:45:20+00:00\",\"dateModified\":\"2019-02-26T15:52:11+00:00\",\"image\":{\"@type\":\"ImageObject\",\"url\":\"https:\\\\/\\\\/venturebeat.com\\\\/wp-content\\\\/uploads\\\\/2017\\\\/08\\\\/newsroom-hero_android_v3_2x.png?fit=1444%2C1000&strip=all\",\"width\":1444,\"height\":1000},\"author\":{\"@type\":\"Person\",\"name\":\"Kyle Wiggers\"},\"publisher\":{\"@type\":\"Organization\",\"logo\":{\"@type\":\"ImageObject\",\"url\":\"https:\\\\/\\\\/vbstatic.co\\\\/brand\\\\/img\\\\/logos\\\\/VB_Extended_Logo_60H.png\",\"width\":416,\"height\":60},\"name\":\"VentureBeat\"}}\\t\\t\\t</script>\\n\\t\\t<link rel=\"shortcut icon\" type=\"image/x-icon\" href=\"https://venturebeat.com/wp-content/themes/vb-news/img/favicon.ico\" />\\t\\t<script type=\"text/javascript\">\\n\\t\\t\\tvar vbSettings = {\"property\":\"VBNews\",\"infinitePostInjection\":{\"start\":2,\"offset\":5}};\\n\\t\\t</script>\\n\\t\\t\\t\\t\\t<script type=\"text/javascript\">\\n\\t\\t\\t\\tvar vb_page_info = {\"title\":\"Facebook introduces new video ad programs, says 100 million people watch content eligible for In-Stream Reserve | VentureBeat\",\"url\":\"https:\\\\/\\\\/venturebeat.com\\\\/2019\\\\/02\\\\/26\\\\/facebook-introduces-new-video-ad-programs-says-100-million-people-watch-content-eligible-for-in-stream-reserve\\\\/\",\"page_type\":\"single\",\"post_title\":\"Facebook introduces new video ad programs, says 100 million people watch content eligible for In-Stream Reserve\",\"authors\":[\"kylewiggers\"],\"story_type\":false,\"channel\":\"social\",\"pubDate\":\"February 26, 2019\",\"pubTime\":\"07\",\"unixPubTime\":1551167120,\"disableAnyClip\":false,\"is_mobile\":false,\"is_tablet\":false,\"is_forum\":false};\\n\\t\\t\\t</script>\\n\\t\\t\\t<link rel=\"amphtml\" href=\"https://venturebeat.com/2019/02/26/facebook-introduces-new-video-ad-programs-says-100-million-people-watch-content-eligible-for-in-stream-reserve/amp/\">\\t\\t<!-- Biddr360 initialization script -->\\n\\t\\t<script type=\"text/javascript\">\\n\\t\\t\\t(function() {\\n\\t\\t\\t  var biddrScript = document.createElement(\\'script\\');\\n\\t\\t\\t  biddrScript.async = true;\\n\\t\\t\\t  biddrScript.type = \\'text/javascript\\';\\n\\t\\t\\t  var useSSL = \\'https:\\' == document.location.protocol;\\n\\t\\t\\t  biddrScript.src = (useSSL ? \\'https:\\' : \\'http:\\') + \\'//biddr.brealtime.com/26020867-1244.js\\';\\n\\t\\t\\t  var node = document.getElementsByTagName(\\'script\\')[0];\\n\\t\\t\\t  node.parentNode.insertBefore(biddrScript, node);\\n\\t\\t\\t})(); \\n\\t\\t</script>\\n\\t\\t<script type=\"text/javascript\">var dfpTargeting = {\"env\":\"production\",\"page_type\":\"article\",\"post_id\":2468023,\"post_type\":\"story\",\"post_chan\":\"social\",\"tags\":\"category-arts-entertainment-online-media,category-arts-entertainment-tv-video-online-video,category-business-industrial-business-services\"}</script>\\t\\t<script type=\"text/javascript\">\\n\\t\\t\\tvar buckets = [\\'A\\', \\'B\\', \\'C\\', \\'D\\'];\\n\\t\\t\\tvar session;\\n\\t\\t\\tvar channel;\\n\\t\\t\\tvar authors;\\n\\t\\t\\tvar tags;\\n\\t\\t\\tvar pubDate;\\n\\t\\t\\tvar pubTime;\\n\\t\\t\\tvar randomInt;\\n\\t\\t\\tvar pubThirtyDays;\\n\\t\\t\\tvar currentTime = Date.now()/1000;\\n\\n\\t\\t\\t//return session value from url param or null if session doesn\\'t exist\\n\\t\\t\\tfunction getSessionParam() {\\n\\t\\t\\t\\tvar currentSearchParams = new URLSearchParams(window.location.search);\\n\\t\\t\\t\\treturn currentSearchParams.get(\\'session\\');\\n\\t\\t\\t}\\n\\n\\t\\t\\t//sees if forced session is valid in buckets array\\n\\t\\t\\tfunction validateSession(forcedSession) {\\n\\t\\t\\t\\tvar validatedSession = buckets.indexOf(forcedSession) > -1 ? forcedSession : \\'\\';\\n\\t\\t\\t\\treturn setSession(validatedSession);\\n\\t\\t\\t}\\n\\n\\t\\t\\t//set session based on url param or create one from buckets array\\n\\t\\t\\tfunction setSession(forcedSession) {\\n\\t\\t\\t\\treturn session = forcedSession || randomSession();\\n\\t\\t\\t}\\n\\n\\t\\t\\t//return int between provided min and maxes\\n\\t\\t\\tfunction getRandomInt(min, max) {\\n\\t\\t\\t\\treturn Math.floor(Math.random() * (max - min + 1)) + min;\\n\\t\\t\\t}\\n\\n\\t\\t\\t//choose random session from buckets array\\n\\t\\t\\tfunction randomSession() {\\n\\t\\t\\t\\treturn buckets[getRandomInt(0,buckets.length - 1)];\\n\\t\\t\\t}\\n\\n\\t\\t\\t//store value of url session param\\n\\t\\t\\tvar sessionParam = getSessionParam();\\n\\n\\t\\t\\t//handles value of url session param\\n\\t\\t\\tsessionParam ? validateSession(sessionParam.toUpperCase()) : setSession();\\n\\n\\t\\t\\tdfpTargeting.session = session;\\n\\n\\t\\t\\tif(typeof dfpTargeting !== \\'undefined\\') {\\n\\t\\t\\t\\ttags = dfpTargeting[\\'tags\\'];\\n\\t\\t\\t}\\n\\n\\t\\t\\tif(typeof vb_page_info !== \\'undefined\\') {\\n\\t\\t\\t\\tchannel = vb_page_info.channel;\\n\\n\\t\\t\\t\\tif(vb_page_info.page_type === \\'single\\') {\\n\\t\\t\\t\\t\\tauthors = vb_page_info.authors.join(\", \");\\n\\n\\t\\t\\t\\t\\tpubDate = vb_page_info.pubDate;\\n\\t\\t\\t\\t\\tpubTime = vb_page_info.pubTime;\\n\\n\\t\\t\\t\\t\\tpubThirtyDays = (currentTime - vb_page_info.unixPubTime)/86400;\\n\\n\\t\\t\\t\\t\\tif(pubThirtyDays > 30) {\\n\\t\\t\\t\\t\\t\\tpubThirtyDays = true;\\n\\t\\t\\t\\t\\t} else {\\n\\t\\t\\t\\t\\t\\tpubThirtyDays = false;\\n\\t\\t\\t\\t\\t}\\n\\t\\t\\t\\t}\\n\\t\\t\\t}\\n\\n\\t\\t\\tdataLayer = [{\"session\": session, \"channel\": channel, \"authors\": authors, \"tags\": tags, \"pubDate\": pubDate, \"pubTime\": pubTime, \"pubThirtyDays\": pubThirtyDays}];\\n\\t\\t</script>\\n\\t\\t\\t\\t\\t\\t<!-- Page-hiding snippet (recommended)  -->\\n\\t\\t\\t\\t<style>.async-hide { opacity: 0 !important} </style>\\n\\t\\t\\t\\t<script>(function(a,s,y,n,c,h,i,d,e){s.className+=\\' \\'+y;h.start=1*new Date;\\n\\t\\t\\t\\th.end=i=function(){s.className=s.className.replace(RegExp(\\' ?\\'+y),\\'\\')};\\n\\t\\t\\t\\t(a[n]=a[n]||[]).hide=h;setTimeout(function(){i();h.end=null},c);h.timeout=c;\\n\\t\\t\\t\\t})(window,document.documentElement,\\'async-hide\\',\\'dataLayer\\',4000,\\n\\t\\t\\t\\t{\"GTM-P7TNBBC\":true});</script>\\n\\n\\t\\t\\t\\t<script type=\"text/javascript\">\\n\\t\\t\\t\\t\\t(function(i,s,o,g,r,a,m){i[\\'GoogleAnalyticsObject\\']=r;i[r]=i[r]||function(){\\n\\t\\t\\t\\t\\t(i[r].q=i[r].q||[]).push(arguments)},i[r].l=1*new Date();a=s.createElement(o),\\n\\t\\t\\t\\t\\tm=s.getElementsByTagName(o)[0];a.async=1;a.src=g;m.parentNode.insertBefore(a,m)\\n\\t\\t\\t\\t\\t})(window,document,\\'script\\',\\'https://www.google-analytics.com/analytics.js\\',\\'ga\\');\\n\\t\\t\\t\\t\\tga(\\'create\\', \"UA-489886-1\", \\'auto\\');\\n\\t\\t\\t\\t\\tga(\\'require\\', \"GTM-P7TNBBC\");\\n\\t\\t\\t\\t</script>\\n\\t\\t\\t\\t\\t\\t<!-- Biddr360 initialization script -->\\n\\t\\t\\t<script type=\"text/javascript\">\\n\\t\\t\\t\\tvar googletag = googletag || {};\\n\\t\\t\\t\\tgoogletag.cmd = googletag.cmd || [];\\n\\t\\t\\t\\tvar slots = [];\\n\\n\\t\\t\\t\\t(function() {\\n\\t\\t\\t\\t  var gads = document.createElement(\\'script\\');\\n\\t\\t\\t\\t  gads.async = true;\\n\\t\\t\\t\\t  gads.type = \\'text/javascript\\';\\n\\t\\t\\t\\t  var useSSL = \\'https:\\' == document.location.protocol;\\n\\t\\t\\t\\t  gads.src = (useSSL ? \\'https:\\' : \\'http:\\') + \\'//www.googletagservices.com/tag/js/gpt.js\\';\\n\\t\\t\\t\\t  var node = document.getElementsByTagName(\\'script\\')[0];\\n\\t\\t\\t\\t  node.parentNode.insertBefore(gads, node);\\n\\t\\t\\t\\t})();\\n\\t\\t\\t\\t\\n\\t\\t\\t\\tgoogletag.cmd.push(function() {\\n\\t\\t\\t\\t\\tvar dfpslots = [].slice.call(document.getElementsByClassName(\\'adslot\\'));\\n\\t\\t\\t\\t\\tdfpslots.forEach(function(element) {\\n\\t\\t\\t\\t    var slot;\\n\\t\\t\\t\\t    var unitName = element.getAttribute(\\'id\\');\\n\\t\\t\\t\\t    var sizes = JSON.parse(element.getAttribute(\\'data-sizes\\'));\\n\\n\\t\\t\\t\\t    // since widget is cached, change medrec id\\'s on article pages for positioning\\n\\t\\t\\t\\t    if(\\'single\\' === vb_page_info.page_type) {\\n\\t\\t\\t\\t    \\tif(\\'a0-p2-s2\\' === unitName) {\\n\\t\\t\\t\\t    \\t\\telement.setAttribute(\\'id\\', \\'a0-p1-s2\\');\\n\\t\\t\\t\\t    \\t\\tunitName = \\'a0-p1-s2\\';\\n\\t\\t\\t\\t    \\t}\\n\\n\\t\\t\\t\\t    \\tif(\\'a0-p4-s2\\' === unitName) {\\n\\t\\t\\t\\t    \\t\\telement.setAttribute(\\'id\\', \\'a0-p2-s2\\');\\n\\t\\t\\t\\t    \\t\\tunitName = \\'a0-p2-s2\\';\\n\\t\\t\\t\\t    \\t}\\n\\t\\t\\t\\t    }\\n\\n\\t\\t\\t\\t    slot = googletag.defineSlot(\\'/1038375/\\' + unitName, sizes, unitName).setCollapseEmptyDiv(true).addService(googletag.pubads());\\n\\n\\t\\t\\t\\t    // Nativo key value targeting\\n\\t\\t\\t\\t    if(\\'IN_Content_Article\\' === unitName) {\\n\\t\\t\\t\\t    \\tslot.setTargeting(\\'ntvPlacement\\', \\'1097467\\');\\n\\t\\t\\t\\t    }\\n\\n\\t\\t\\t\\t    if(\\'Recommended_Widget_PP\\' === unitName) {\\n\\t\\t\\t\\t    \\tslot.setTargeting(\\'ntvPlacement\\', \\'1097466\\');\\n\\t\\t\\t\\t    }\\n\\n\\t\\t\\t\\t    if(\\'Homepage_River_PP\\' === unitName) {\\n\\t\\t\\t\\t    \\tslot.setTargeting(\\'ntvPlacement\\', \\'1097464\\');\\n\\t\\t\\t\\t    }\\n\\t\\t\\t\\t    \\n\\t\\t\\t\\t    slot.setTargeting(\\'pv\\', \\'first\\');\\n\\t\\t\\t\\t    for(var key in dfpTargeting) {\\n\\t\\t\\t\\t      if(dfpTargeting.hasOwnProperty(key)) {\\n\\t\\t\\t\\t      \\tif(\\'tags\\' === key && dfpTargeting[key]) {\\n\\t\\t\\t\\t      \\t\\tvar tags = dfpTargeting[key].split(\\',\\');\\n\\t\\t\\t\\t      \\t\\tslot.setTargeting(key, tags);\\n\\t\\t\\t\\t      \\t} else {\\n\\t\\t\\t\\t      \\t\\tslot.setTargeting(key, dfpTargeting[key]);\\n\\t\\t\\t\\t      \\t}\\n\\t\\t\\t\\t      }\\n\\t\\t\\t\\t    }\\n\\t\\t\\t\\t    slots.push(slot);\\n\\t\\t\\t\\t\\t});\\n\\n\\t\\t\\t\\t\\tgoogletag.pubads().addEventListener(\\'slotRenderEnded\\', function(event) {\\n\\t\\t\\t\\t\\t\\tif(!event.isEmpty && \\'a1-p2-s0\\' === event.slot.getSlotElementId()) {\\n\\t\\t\\t\\t\\t\\t\\tvar marqueeBillboard = document.getElementById(\\'a1-p2-s0\\');\\n\\t\\t\\t\\t\\t\\t\\tmarqueeBillboard.style.display = \\'\\';\\n\\t\\t\\t\\t\\t\\t\\tvar iframe = marqueeBillboard.getElementsByTagName(\\'iframe\\')[0];\\n\\t\\t\\t\\t\\t\\t\\tvar innerIframe = iframe.contentDocument;\\n\\t\\t\\t\\t\\t\\t\\tvar imageDiv = innerIframe.getElementById(\\'google_image_div\\');\\n\\t\\t\\t\\t\\t\\t\\tvar image = imageDiv.getElementsByTagName(\\'img\\')[0];\\n\\t\\t\\t\\t\\t\\t\\tvar imageParent = imageDiv.getElementsByTagName(\\'amp-img\\')[0];\\n\\n\\t\\t\\t\\t\\t\\t\\timageParent.style.width = \\'100vw\\';\\n\\t\\t\\t\\t\\t\\t\\timageParent.style.height = \\'25vw\\';\\n\\t\\t\\t\\t\\t\\t\\timage.style.width = \\'100vw\\';\\n\\t\\t\\t\\t\\t\\t\\timage.style.height = \\'25vw\\';\\n\\t\\t\\t\\t\\t\\t}\\n\\n\\t\\t\\t\\t\\t\\tif(!event.isEmpty && \\'a1-p1-s42\\' === event.slot.getSlotElementId()) {\\n\\t\\t\\t\\t\\t\\t\\tvar stickyMobileLB = document.getElementById(\\'vb-mobile-fixed-leaderboard\\');\\n\\t\\t\\t\\t\\t\\t\\tstickyMobileLB.style.display = \\'block\\';\\n\\t\\t\\t\\t\\t\\t\\tvar closeButton = document.getElementById(\\'vb-close-leaderboard-button\\');\\n\\n\\t\\t\\t\\t\\t\\t\\tcloseButton.onclick = function() {\\n\\t\\t\\t\\t\\t\\t\\t  closeButton.parentNode.style.display = \\'none\\';\\n\\t\\t\\t\\t\\t\\t\\t  stickyMobileLB.style.display = \\'none\\';\\n\\t\\t\\t\\t\\t\\t\\t}\\n\\t\\t\\t\\t\\t\\t}\\n\\n\\t\\t\\t\\t\\t\\t// Calculate sidebar height and make last ad unit sticky\\n\\t\\t\\t\\t\\t\\tif(!event.isEmpty && \\'a1-p1-s2\\' === event.slot.getSlotElementId()) {\\n\\t\\t\\t\\t\\t\\t\\tvar sideBar = document.getElementsByClassName(\\'xoxo\\')[0];\\n\\t\\t\\t\\t\\t\\t\\tvar primaryContent = document.getElementById(\\'primary\\');\\n\\t\\t\\t\\t\\t\\t\\tvar featuredImage = document.getElementsByClassName(\\'article-media-header\\')[0];\\n\\n\\t\\t\\t\\t\\t\\t\\tif(sideBar) {\\n\\t\\t\\t\\t\\t\\t\\t\\tvar sideBarHeight = sideBar.offsetHeight;\\n\\t\\t\\t\\t\\t\\t\\t}\\n\\n\\t\\t\\t\\t\\t\\t\\tif(primaryContent) {\\n\\t\\t\\t\\t\\t\\t\\t\\tvar primaryHeight = primaryContent.offsetHeight;\\n\\t\\t\\t\\t\\t\\t\\t}\\n\\n\\t\\t\\t\\t\\t\\t\\tif(featuredImage) {\\n\\t\\t\\t\\t\\t\\t\\t\\tprimaryHeight = primaryHeight + featuredImage.offsetHeight;\\n\\t\\t\\t\\t\\t\\t\\t}\\n\\n\\t\\t\\t\\t\\t\\t\\tif( primaryHeight > sideBarHeight) {\\n\\t\\t\\t\\t\\t\\t\\t\\tvar sideBarAds = document.getElementsByClassName(\\'dfp-placeholder\\');\\n\\t\\t\\t\\t\\t\\t\\t\\tvar stickyMedRec = sideBarAds[sideBarAds.length - 1];\\n\\t\\t\\t\\t\\t\\t\\t\\tsideBar.style.height = primaryHeight + \"px\";\\n\\n\\t\\t\\t\\t\\t\\t\\t\\tstickyMedRec.classList.add(\"sticky-ad\");\\n\\t\\t\\t\\t\\t\\t\\t}\\n\\t\\t\\t\\t\\t\\t}\\n\\t\\t\\t\\t\\t});\\n\\n\\t\\t\\t\\t\\tgoogletag.pubads().enableSingleRequest();\\n\\t\\t\\t\\t\\tgoogletag.pubads().disableInitialLoad();\\n\\t\\t\\t\\t\\tgoogletag.enableServices();\\n\\n\\t\\t\\t\\t\\tdfpslots.forEach(function(element) {\\n\\t\\t\\t\\t\\t\\tgoogletag.display(element.getAttribute(\\'id\\'));\\n\\t\\t\\t\\t\\t});\\n\\t\\t\\t\\t});\\n\\n\\t\\t\\t</script>\\n\\t\\t\\t\\t\\t<!-- Prebid initialization script -->\\n\\t\\t<script type=\"text/javascript\">\\n\\t\\t\\tvar pbjs = pbjs || {};\\n\\t\\t\\tpbjs.que = pbjs.que || [];\\n\\n\\t\\t\\tvar PREBID_TIMEOUT = 700;\\n\\t\\t\\tvar BASE_TAG = \\'https://pubads.g.doubleclick.net/gampad/ads?iu=/1038375/Video_Pre-roll&description_url=__page-url__&env=vp&impl=s&correlator=&tfcd=0&npa=0&gdfp_req=1&output=vast&sz=640x480&unviewed_position_start=1\\';\\n\\n\\t\\t\\t(function() {\\n\\t\\t\\t  var prebid = document.createElement(\\'script\\');\\n\\t\\t\\t  prebid.async = true;\\n\\t\\t\\t  prebid.type = \\'text/javascript\\';\\n\\t\\t\\t  var useSSL = \\'https:\\' == document.location.protocol;\\n\\t\\t\\t  prebid.src = \"https://venturebeat.com/wp-content/themes/vb-news/lib/prebid.js\";\\n\\t\\t\\t  var node = document.getElementsByTagName(\\'script\\')[0];\\n\\t\\t\\t  node.parentNode.insertBefore(prebid, node);\\n\\t\\t\\t})();\\n\\n\\t\\t\\t(function() {\\n\\t\\t\\t  var jwplayerScript = document.createElement(\\'script\\');\\n\\t\\t\\t  jwplayerScript.async = true;\\n\\t\\t\\t  jwplayerScript.type = \\'text/javascript\\';\\n\\t\\t\\t  var useSSL = \\'https:\\' == document.location.protocol;\\n\\t\\t\\t  jwplayerScript.src = (useSSL ? \\'https:\\' : \\'http:\\') + \\'//cdn.jwplayer.com/libraries/vXwgOauG.js\\';\\n\\t\\t\\t  var node = document.getElementsByTagName(\\'script\\')[0];\\n\\t\\t\\t  node.parentNode.insertBefore(jwplayerScript, node);\\n\\t\\t\\t})(); \\n\\n\\n\\t\\t\\tvar videoAdUnit = {\\n\\t\\t\\t\\tcode: \\'video1\\',\\n\\t\\t\\t\\tmediaTypes: {\\n\\t\\t\\t\\t\\tvideo: {\\n\\t\\t\\t\\t\\t\\tplayerSize: [640, 480],\\n\\t\\t\\t\\t\\t\\tcontext: \\'instream\\'\\n\\t\\t\\t\\t\\t}\\n\\t\\t\\t\\t},\\n\\t\\t\\t\\tbids: [{\\n\\t\\t\\t\\t\\tbidder: \\'appnexus\\',\\n\\t\\t\\t\\t\\tparams: {\\n\\t\\t\\t\\t\\t\\tplacementId: \\'14861004\\',\\n\\t\\t\\t\\t\\t\\tvideo: {\\n\\t\\t\\t\\t\\t\\t\\tskippable: true,\\n\\t\\t\\t\\t\\t\\t\\tplayback_method: [\\'auto_play_sound_off\\']\\n\\t\\t\\t\\t\\t\\t}\\n\\t\\t\\t\\t\\t}\\n\\t\\t\\t\\t},\\n\\t\\t\\t\\t{\\n\\t\\t\\t\\t\\tbidder: \\'openx\\',\\n\\t\\t\\t\\t\\tparams: {\\n\\t\\t\\t\\t\\t\\tdelDomain: \\'venturebeat-d.openx.net\\',\\n\\t\\t\\t\\t\\t\\tunit: \\'540595311\\'\\n\\t\\t\\t\\t\\t}\\n\\t\\t\\t\\t},\\n\\t\\t\\t\\t{\\n\\t\\t\\t\\t\\tbidder: \\'rubicon\\',\\n\\t\\t\\t\\t\\tparams: {\\n\\t\\t\\t\\t\\t\\taccountId: \\'12778\\',\\n\\t\\t\\t\\t\\t\\tsiteId: \\'240004\\',\\n\\t\\t\\t\\t\\t\\tzoneId: \\'1185142\\',\\n\\t\\t\\t\\t\\t\\tvideo: {\\n\\t\\t\\t\\t\\t\\t\\tplayerWidth: \\'640\\',\\n\\t\\t\\t\\t\\t\\t\\tplayerHeight: \\'480\\'\\n\\t\\t\\t\\t\\t\\t}\\n\\t\\t\\t\\t\\t}\\n\\t\\t\\t\\t}]\\n\\t\\t\\t};\\n\\n\\n\\t\\t\\tif(\\'A\\' === session || \\'B\\' === session) {\\n\\t\\t\\t\\tpbjs.que.push(function() {\\n\\t\\t\\t\\t\\tpbjs.addAdUnits(videoAdUnit);\\n\\n\\t\\t\\t\\t\\tpbjs.setConfig({\\n\\t\\t\\t\\t\\t\\tdebug: true,\\n\\t\\t\\t\\t\\t\\tcache: {\\n\\t\\t\\t\\t\\t\\t\\turl: \\'https://prebid.adnxs.com/pbc/v1/cache\\'\\n\\t\\t\\t\\t\\t\\t},\\n\\t\\t\\t\\t\\t\\tpriceGranularity: {\\n\\t\\t\\t\\t\\t\\t\\t\\'buckets\\': [{\\n\\t\\t\\t\\t\\t\\t\\t\\t\\'precision\\': 2,\\n\\t\\t\\t\\t\\t\\t\\t\\t\\'min\\': 5,\\n\\t\\t\\t\\t\\t\\t\\t\\t\\'max\\': 49.90,\\n\\t\\t\\t\\t\\t\\t\\t\\t\\'increment\\': 0.10\\n\\t\\t\\t\\t\\t\\t\\t}]\\n\\t\\t\\t\\t\\t\\t}\\n\\t\\t\\t\\t\\t});\\n\\n\\t\\t\\t\\t});\\n\\t\\t\\t}\\n\\n\\t\\t\\t\\n\\n\\t\\t</script>\\n\\t\\t\\t\\t\\t\\t<script type=\"text/javascript\">\\n\\n\\t\\t\\t\\t\\t(function(w,d,s,l,i){w[l]=w[l]||[];w[l].push({\\'gtm.start\\':\\n\\t\\t\\t\\t\\tnew Date().getTime(),event:\\'gtm.js\\'});var f=d.getElementsByTagName(s)[0],\\n\\t\\t\\t\\t\\tj=d.createElement(s),dl=l!=\\'dataLayer\\'?\\'&l=\\'+l:\\'\\';j.async=true;j.src=\\n\\t\\t\\t\\t\\t\\'https://www.googletagmanager.com/gtm.js?id=\\'+i+dl;f.parentNode.insertBefore(j,f);\\n\\t\\t\\t\\t\\t})(window,document,\\'script\\',\\'dataLayer\\',\"GTM-M5ZX2VT\");\\n\\n\\t\\t\\t\\t</script>\\n\\t\\t\\t<script>\\n  (function (s,o,n,a,r,i,z,e) {s[\\'StackSonarObject\\']=r;s[r]=s[r]||function(){\\n  (s[r].q=s[r].q||[]).push(arguments)},s[r].l=1*new Date();i=o.createElement(n),\\n  z=o.getElementsByTagName(n)[0];i.async=1;i.src=a;z.parentNode.insertBefore(i,z)\\n  })(window,document,\\'script\\',\\'https://www.stack-sonar.com/ping.js\\',\\'stackSonar\\');\\n\\n  stackSonar(\\'stack-connect-wp\\', \"7ede8496-0dc2-4ecf-a992-7ca086fc773e\");\\n</script>\\n</head>\\n<body class=\"post-template-default single single-post postid-2468023 single-format-standard singular category-Apps\">\\n\\t\\t\\t\\t\\t\\t<div id=\"a1-p2-s0\" data-sizes=\"[1000,1]\" class=\"adslot\" style=\"display:none; min-height: 100px\">\\n\\t\\t\\t</div>\\n\\t\\t\\t<nav id=\"omni-navbar\" class=\"navbar navbar-default navbar-static-top site-header\">\\n\\t<div class=\"container-fluid\">\\n\\n\\t\\t<!-- Bootstrap Header -->\\n\\t\\t<div class=\"navbar-header\">\\n\\n\\t\\t\\t<!-- Collapse Button -->\\n\\t\\t\\t<a id=\"nav-toggle\" class=\"navbar-toggle hidden-sm hidden-md hidden-lg\"><span></span></a>\\n\\n\\t\\t\\t<!-- Brand Image -->\\n\\t\\t\\t<a href=\"/\"><img id=\"brand-img\" src=\"https://venturebeat.com/wp-content/themes/vb-news/brand/img/Icon_Sprites_02.png\" width=\"52\" height=\"32\"></a>\\n\\t\\t</div>\\n\\n\\t\\t<!-- Collapse -->\\n\\t\\t<div id=\"venturebeat-navbar-collapse\" class=\"collapse navbar-collapse hidden-sm hidden-xs\">\\n\\n\\t\\t\\t<!-- Navbar Center -->\\n\\t\\t\\t<ul id=\"main-links\" class=\"nav navbar-nav\">\\n\\n\\t\\t\\t\\t<!-- News Dropdown -->\\n\\t\\t\\t\\t<li class=\"dropdown\" data-id=\"news\">\\n\\t\\t\\t\\t\\t<a href=\"/\" class=\"dropdown-toggle\" role=\"button\" aria-haspopup=\"true\" aria-expanded=\"false\">CHANNELS<span class=\"navbar-caret\"><span class=\"navbar-caret-left\"> l </span><span class=\"navbar-caret-right\"> l </span></span></a>\\n\\t\\t\\t\\t\\t<div id=\"news\" class=\"dropdown-menu\">\\n\\n\\t\\t\\t\\t\\t\\t<!-- Top Portion -->\\n\\t\\t\\t\\t\\t\\t<div class=\"row dropdown-primary\">\\n\\n\\t\\t\\t\\t\\t\\t\\t<!-- Channels -->\\n\\t\\t\\t\\t\\t\\t\\t<div class=\"col-sm-12 link-list no-left-pad\">\\n\\t\\t\\t\\t\\t\\t\\t\\t<div class=\"header-container\">\\n\\t\\t\\t\\t\\t\\t\\t\\t\\t<h3 class=\"header\">CHANNELS</h3>\\n\\t\\t\\t\\t\\t\\t\\t\\t</div>\\n\\t\\t\\t\\t\\t\\t\\t\\t<div class=\"row no-pad\">\\n\\t\\t\\t\\t\\t\\t\\t\\t\\t<div class=\"col-sm-4 no-pad\">\\n\\t\\t\\t\\t\\t\\t\\t\\t\\t\\t<ul>\\n\\t\\t\\t\\t\\t\\t\\t\\t\\t\\t\\t<li class=\"list-item-link\"><a href=\"/category/games/\">GamesBeat</a></li>\\n\\t\\t\\t\\t\\t\\t\\t\\t\\t\\t\\t<li class=\"list-item-link\"><a href=\"/category/ai/\">AI</a></li>\\n\\t\\t\\t\\t\\t\\t\\t\\t\\t\\t\\t<li class=\"list-item-link\"><a href=\"/category/arvr/\">AR/VR</a></li>\\n\\t\\t\\t\\t\\t\\t\\t\\t\\t\\t\\t<li class=\"list-item-link\"><a href=\"/category/big-data/\">Big Data</a></li>\\n\\t\\t\\t\\t\\t\\t\\t\\t\\t\\t\\t<li class=\"list-item-link\"><a href=\"/category/business/\">Business</a></li>\\n\\t\\t\\t\\t\\t\\t\\t\\t\\t\\t\\t<li class=\"list-item-link\"><a href=\"/category/cloud/\">Cloud</a></li>\\n\\t\\t\\t\\t\\t\\t\\t\\t\\t\\t\\t<li class=\"list-item-link\"><a href=\"/category/commerce/\">Commerce</a></li>\\n\\t\\t\\t\\t\\t\\t\\t\\t\\t\\t</ul>\\n\\t\\t\\t\\t\\t\\t\\t\\t\\t</div>\\n\\t\\t\\t\\t\\t\\t\\t\\t\\t<div class=\"col-sm-4\">\\n\\t\\t\\t\\t\\t\\t\\t\\t\\t\\t<ul>\\n\\t\\t\\t\\t\\t\\t\\t\\t\\t\\t\\t<li class=\"list-item-link\"><a href=\"/category/dev/\">Dev</a></li>\\n\\t\\t\\t\\t\\t\\t\\t\\t\\t\\t\\t<li class=\"list-item-link\"><a href=\"/category/enterprise/\">Enterprise</a></li>\\n\\t\\t\\t\\t\\t\\t\\t\\t\\t\\t\\t<li class=\"list-item-link\"><a href=\"/category/entrepreneur/\">Entrepreneur</a></li>\\n\\t\\t\\t\\t\\t\\t\\t\\t\\t\\t\\t<li class=\"list-item-link\"><a href=\"/category/esports/\">Esports</a></li>\\n\\t\\t\\t\\t\\t\\t\\t\\t\\t\\t\\t<li class=\"list-item-link\"><a href=\"/category/heartland-tech/\">Heartland Tech</a></li>\\n\\t\\t\\t\\t\\t\\t\\t\\t\\t\\t\\t<li class=\"list-item-link\"><a href=\"/category/marketing/\">Marketing</a></li>\\n\\t\\t\\t\\t\\t\\t\\t\\t\\t\\t\\t<li class=\"list-item-link\"><a href=\"/category/media/\">Media</a></li>\\n\\t\\t\\t\\t\\t\\t\\t\\t\\t\\t</ul>\\n\\t\\t\\t\\t\\t\\t\\t\\t\\t</div>\\n\\t\\t\\t\\t\\t\\t\\t\\t\\t<div class=\"col-sm-4\">\\n\\t\\t\\t\\t\\t\\t\\t\\t\\t\\t<ul>\\n\\t\\t\\t\\t\\t\\t\\t\\t\\t\\t\\t<li class=\"list-item-link\"><a href=\"/category/mobile/\">Mobile</a></li>\\n\\t\\t\\t\\t\\t\\t\\t\\t\\t\\t\\t<li class=\"list-item-link\"><a href=\"/category/pc-gaming/\">PC Gaming</a></li>\\n\\t\\t\\t\\t\\t\\t\\t\\t\\t\\t\\t<li class=\"list-item-link\"><a href=\"/category/security/\">Security</a></li>\\n\\t\\t\\t\\t\\t\\t\\t\\t\\t\\t\\t<li class=\"list-item-link\"><a href=\"/category/social/\">Social</a></li>\\n\\t\\t\\t\\t\\t\\t\\t\\t\\t\\t\\t<li class=\"list-item-link\"><a href=\"/category/transportation/\">Transportation</a></li>\\n\\t\\t\\t\\t\\t\\t\\t\\t\\t\\t</ul>\\n\\t\\t\\t\\t\\t\\t\\t\\t\\t</div>\\n\\t\\t\\t\\t\\t\\t\\t\\t</div>\\n\\t\\t\\t\\t\\t\\t\\t</div>\\n\\t\\t\\t\\t\\t\\t</div>\\n\\n\\t\\t\\t\\t\\t\\t<!-- Bottom Portion -->\\n\\t\\t\\t\\t\\t\\t<div class=\"row dropdown-secondary\">\\n\\t\\t\\t\\t\\t\\t\\t<div class=\"col-sm-4 no-pad\">\\n\\t\\t\\t\\t\\t\\t\\t\\t<ul>\\n\\t\\t\\t\\t\\t\\t\\t\\t\\t<li class=\"top\"><a href=\"/contact/\">Got a news tip?</a></li>\\n\\t\\t\\t\\t\\t\\t\\t\\t\\t<li><a href=\"/tag/business-sponsored-company-news/\">Press Releases</a></li>\\n\\t\\t\\t\\t\\t\\t\\t\\t</ul>\\n\\t\\t\\t\\t\\t\\t\\t</div>\\n\\t\\t\\t\\t\\t\\t\\t<div class=\"col-sm-4\">\\n\\t\\t\\t\\t\\t\\t\\t\\t<ul>\\n\\t\\t\\t\\t\\t\\t\\t\\t\\t<li class=\"top\"><a href=\"/webinars/\">Webinars</a></li>\\n\\t\\t\\t\\t\\t\\t\\t\\t\\t\\t\\t\\t\\t\\t\\t\\t\\t</ul>\\n\\t\\t\\t\\t\\t\\t\\t</div>\\n\\t\\t\\t\\t\\t\\t\\t<div class=\"col-sm-4\">\\n\\t\\t\\t\\t\\t\\t\\t\\t<ul>\\n\\t\\t\\t\\t\\t\\t\\t\\t\\t<li class=\"top\"><a href=\"/advertise/\">Advertise</a></li>\\n\\t\\t\\t\\t\\t\\t\\t\\t\\t<li><a href=\"/privacy-policy/\">Privacy Policy</a></li>\\n\\t\\t\\t\\t\\t\\t\\t\\t</ul>\\n\\t\\t\\t\\t\\t\\t\\t</div>\\n\\t\\t\\t\\t\\t\\t</div>\\n\\t\\t\\t\\t\\t</div>\\n\\t\\t\\t\\t</li>\\n\\n\\t\\t\\t\\t<!-- Events Dropdown -->\\n\\t\\t\\t\\t<li class=\"dropdown\" data-id=\"events\">\\n\\t\\t\\t\\t\\t<a href=\"/events/\" class=\"dropdown-toggle\" role=\"button\" aria-haspopup=\"true\" aria-expanded=\"false\">EVENTS<span id=\"events-navbar-caret\" class=\"navbar-caret\"><span class=\"navbar-caret-left\"> l </span><span class=\"navbar-caret-right\"> l </span></span></a>\\n\\t\\t\\t\\t\\t<div id=\"events\" class=\"dropdown-menu\">\\n\\n\\t\\t\\t\\t\\t\\t<!-- Top Portion -->\\n\\t\\t\\t\\t\\t\\t<div class=\"row dropdown-primary\">\\n\\n\\t\\t\\t\\t\\t\\t\\t<!-- VB Events -->\\n\\t\\t\\t\\t\\t\\t\\t<div class=\"col-sm-4 link-list no-left-pad\">\\n\\t\\t\\t\\t\\t\\t\\t\\t<div class=\"header-container\">\\n\\t\\t\\t\\t\\t\\t\\t\\t\\t<h3 class=\"header\">VB EVENTS</h3>\\n\\t\\t\\t\\t\\t\\t\\t\\t</div>\\n\\t\\t\\t\\t\\t\\t\\t\\t<ul>\\n\\t\\t\\t\\t\\t\\t\\t\\t\\t<li class=\"list-item-link\"><a href=\"/events/#upcoming_events\">Upcoming Events</a></li>\\n\\t\\t\\t\\t\\t\\t\\t\\t</ul>\\n\\t\\t\\t\\t\\t\\t\\t</div>\\n\\n\\t\\t\\t\\t\\t\\t\\t<!-- Get Involved -->\\n\\t\\t\\t\\t\\t\\t\\t<div class=\"col-sm-8 link-list\">\\n\\t\\t\\t\\t\\t\\t\\t\\t<div class=\"header-container\">\\n\\t\\t\\t\\t\\t\\t\\t\\t\\t<h3 class=\"header\">GET INVOLVED</h3>\\n\\t\\t\\t\\t\\t\\t\\t\\t</div>\\n\\t\\t\\t\\t\\t\\t\\t\\t<div class=\"row no-pad\">\\n\\t\\t\\t\\t\\t\\t\\t\\t\\t<div class=\"col-sm-6 no-pad\">\\n\\t\\t\\t\\t\\t\\t\\t\\t\\t\\t<ul>\\n\\t\\t\\t\\t\\t\\t\\t\\t\\t\\t\\t<li class=\"list-item-link\"><a href=\"https://vbevents.venturebeat.com/sponsorpage\">Sponsor</a></li>\\n\\t\\t\\t\\t\\t\\t\\t\\t\\t\\t</ul>\\n\\t\\t\\t\\t\\t\\t\\t\\t\\t</div>\\n\\t\\t\\t\\t\\t\\t\\t\\t\\t<div class=\"col-sm-6\">\\n\\t\\t\\t\\t\\t\\t\\t\\t\\t\\t<ul>\\n\\t\\t\\t\\t\\t\\t\\t\\t\\t\\t\\t<li class=\"list-item-link\"><a href=\"mailto:partners@venturebeat.com\">Media Partner</a></li>\\n\\t\\t\\t\\t\\t\\t\\t\\t\\t\\t\\t<li class=\"list-item-link bottom\"><a href=\"https://docs.google.com/a/venturebeat.com/forms/d/1wtWn2vpDjjVFxX5_4c4Ztv5LFiyRXlokDl-_ZOsIav8/viewform\">Volunteer</a></li>\\n\\t\\t\\t\\t\\t\\t\\t\\t\\t\\t</ul>\\n\\t\\t\\t\\t\\t\\t\\t\\t\\t</div>\\n\\t\\t\\t\\t\\t\\t\\t\\t</div>\\n\\t\\t\\t\\t\\t\\t\\t</div>\\n\\t\\t\\t\\t\\t\\t</div>\\n\\n\\t\\t\\t\\t\\t\\t<!-- Bottom Portion -->\\n\\t\\t\\t\\t\\t\\t<div class=\"row dropdown-secondary\">\\n\\t\\t\\t\\t\\t\\t\\t<div class=\"col-sm-4 no-pad\">\\n\\t\\t\\t\\t\\t\\t\\t\\t<ul>\\n\\t\\t\\t\\t\\t\\t\\t\\t\\t<li class=\"top\"><a href=\"/contact/\">Got a news tip?</a></li>\\n\\t\\t\\t\\t\\t\\t\\t\\t\\t<li><a href=\"/tag/business-sponsored-company-news/\">Press Releases</a></li>\\n\\t\\t\\t\\t\\t\\t\\t\\t</ul>\\n\\t\\t\\t\\t\\t\\t\\t</div>\\n\\t\\t\\t\\t\\t\\t\\t<div class=\"col-sm-4\">\\n\\t\\t\\t\\t\\t\\t\\t\\t<ul>\\n\\t\\t\\t\\t\\t\\t\\t\\t\\t<li class=\"top\"><a href=\"/webinars/\">Webinars</a></li>\\n\\t\\t\\t\\t\\t\\t\\t\\t\\t\\t\\t\\t\\t\\t\\t\\t\\t</ul>\\n\\t\\t\\t\\t\\t\\t\\t</div>\\n\\t\\t\\t\\t\\t\\t\\t<div class=\"col-sm-4\">\\n\\t\\t\\t\\t\\t\\t\\t\\t<ul>\\n\\t\\t\\t\\t\\t\\t\\t\\t\\t<li class=\"top\"><a href=\"/advertise/\">Advertise</a></li>\\n\\t\\t\\t\\t\\t\\t\\t\\t\\t<li><a href=\"/privacy-policy/\">Privacy Policy</a></li>\\n\\t\\t\\t\\t\\t\\t\\t\\t</ul>\\n\\t\\t\\t\\t\\t\\t\\t</div>\\n\\t\\t\\t\\t\\t\\t</div>\\n\\t\\t\\t\\t\\t</div>\\n\\t\\t\\t\\t</li>\\n\\n\\t\\t\\t\\t<li class=\"dropdown\">\\n\\t\\t\\t\\t\\t<a href=\"/newsletters/\">NEWSLETTERS</a>\\n\\t\\t\\t\\t</li>\\n\\n\\t\\t\\t</ul>\\n\\n\\t\\t\\t\\n\\n\\t\\t\\t<!-- Navbar Right (Signup, login, search) -->\\n\\t\\t\\t<ul class=\"nav navbar-nav navbar-right account-links\">\\n\\t\\t\\t\\t<li id=\"search-parent\"><a class=\"dropdown-toggle\" data-toggle=\"dropdown\" role=\"button\" aria-expanded=\"false\"><span id=\"search-toggle\" class=\"search-icon\"></span></a>\\n\\t\\t\\t\\t</li>\\n\\t\\t\\t</ul>\\n\\t\\t\\t<form id=\"desktop-search-form\" class=\"navbar-form navbar-right\">\\n\\t\\t\\t\\t<div class=\"form-group\">\\n\\t\\t\\t\\t\\t<input id=\"search-input\" type=\"text\" class=\"form-control\" placeholder=\"Search\" />\\n\\t\\t\\t\\t</div>\\n\\t\\t\\t</form>\\n\\n\\t\\t\\t<ul class=\"nav navbar-nav navbar-right social-links\">\\n\\t\\t\\t\\t<li><a class=\"nav-social facebook-social\" target=\"_blank\" href=\"https://www.facebook.com/venturebeat/\"><img src=\"https://venturebeat.com/wp-content/themes/vb-news/brand/img/Icon_Sprites_02.png\" class=\"social-img facebook img-responsive\"></a></li>\\n\\t\\t\\t\\t<li><a class=\"nav-social twitter-social\" target=\"_blank\" href=\"https://twitter.com/venturebeat\"><img src=\"https://venturebeat.com/wp-content/themes/vb-news/brand/img/Icon_Sprites_02.png\" class=\"social-img twitter img-responsive\"></a></li>\\n\\t\\t\\t\\t<li><a class=\"nav-social linkedin-social\" target=\"_blank\" href=\"https://www.linkedin.com/company/venturebeat\"><img src=\"https://venturebeat.com/wp-content/themes/vb-news/brand/img/Icon_Sprites_02.png\" class=\"social-img linked-in img-responsive\"></a></li>\\n\\t\\t\\t\\t<li><a data-flip-widget=\"ico\" href=\"https://flipboard.com/@VentureBeat?utm_campaign=tools&utm_medium=follow&action=follow\" class=\"nav-social flipboard-social\"><img src=\"https://venturebeat.com/wp-content/themes/vb-news/brand/img/Icon_Sprites_02.png\" class=\"social-img flipboard img-responsive\"/></a>\\n\\t\\t\\t\\t</li>\\n\\t\\t\\t\\t<li><a class=\"nav-social rss-social\" target=\"_blank\" href=\"//feeds.feedburner.com/venturebeat/SZYF\"><img src=\"https://venturebeat.com/wp-content/themes/vb-news/brand/img/Icon_Sprites_02.png\" class=\"social-img rss img-responsive\"></a></li>\\n\\t\\t\\t</ul>\\n\\n\\t\\t</div>\\n\\n\\t\\t<!-- Mobile Navbar -->\\n\\t\\t<div id=\"mobile-nav\" class=\"hidden-sm hidden-md hidden-lg\">\\n\\n\\t\\t<!-- Mobile Social -->\\n\\t\\t<div id=\"mobile-social\">\\n\\t\\t\\t<div class=\"row\">\\n\\t\\t\\t\\t\\t<a class=\"facebook-social social-img facebook\" target=\"_blank\" href=\"https://www.facebook.com/venturebeat/\"></a>\\n\\t\\t\\t\\t\\t<a class=\"twitter-social social-img twitter\" target=\"_blank\" href=\"https://twitter.com/venturebeat\"></a>\\n\\t\\t\\t\\t\\t<a class=\"linkedin-social social-img linked-in\" target=\"_blank\" href=\"https://www.linkedin.com/company/venturebeat\"></a>\\n\\t\\t\\t\\t\\t<a class=\"googleplus-social social-img google-plus\" target=\"_blank\" href=\"https://plus.google.com/u/0/111356039646926014229/posts\"></a>\\n\\t\\t\\t\\t\\t<a class=\"rss-feed social-img rss\" target=\"_blank\" href=\"//feeds.feedburner.com/venturebeat/SZYF\"></a>\\n\\t\\t\\t\\t\\t<a data-flip-widget=\"ico\" href=\"https://flipboard.com/@VentureBeat?utm_campaign=tools&utm_medium=follow&action=follow\" class=\"nav-social flipboard-social social-img flipboard\"></a>\\n\\t\\t\\t</div>\\n\\t\\t</div>\\n\\n\\t\\t\\t<!-- Search Container -->\\n\\t\\t\\t<div id=\"mobile-search-container\">\\n\\t\\t\\t\\t<form id=\"mobile-search-form\" class=\"form-group\">\\n\\t\\t\\t\\t\\t<div class=\"row\">\\n\\t\\t\\t\\t\\t\\t<div class=\"col-xs-12\">\\n\\t\\t\\t\\t\\t\\t\\t<input id=\"mobile-search-input\" class=\"form-control\" type=\"text\" placeholder=\"Search\" />\\n\\t\\t\\t\\t\\t\\t\\t<button id=\"mobile-search-icon\" type=\"submit\"></button>\\n\\t\\t\\t\\t\\t\\t</div>\\n\\t\\t\\t\\t\\t</div>\\n\\t\\t\\t\\t</form>\\n\\t\\t\\t</div>\\n\\n\\t\\t\\t<!-- Main Navigation -->\\n\\t\\t\\t<div id=\"mobile-main-nav\">\\n\\t\\t\\t\\t<ul>\\n\\t\\t\\t\\t\\t<li class=\"mobile-nav-row\" id=\"mobile-news-row\">\\n\\t\\t\\t\\t\\t\\t<h3 class=\"mobile-nav-link\" data-id=\"mobile-news\">\\n\\t\\t\\t\\t\\t\\t\\t<span class=\"left-caret\" id=\"mobile-news-left-caret\">&#8249;</span>\\n\\t\\t\\t\\t\\t\\t\\t\\tCHANNELS\\n\\t\\t\\t\\t\\t\\t\\t<span class=\"pull-right right-caret\" id=\"mobile-news-right-caret\">&#8250;</span>\\n\\t\\t\\t\\t\\t\\t</h3>\\n\\t\\t\\t\\t\\t\\t<div id=\"mobile-news\" class=\"mobile-main-subnav\">\\n\\t\\t\\t\\t\\t\\t\\t<div class=\"header-container\">\\n\\t\\t\\t\\t\\t\\t\\t\\t<h3 class=\"header\">CHANNELS</h3>\\n\\t\\t\\t\\t\\t\\t\\t</div>\\n\\t\\t\\t\\t\\t\\t\\t<div class=\"row news-row\">\\n\\t\\t\\t\\t\\t\\t\\t\\t<div class=\"col-xs-6\">\\n\\t\\t\\t\\t\\t\\t\\t\\t\\t<a href=\"/category/games/\">GamesBeat</a>\\n\\t\\t\\t\\t\\t\\t\\t\\t</div>\\n\\t\\t\\t\\t\\t\\t\\t\\t<div class=\"col-xs-6\">\\n\\t\\t\\t\\t\\t\\t\\t\\t\\t<a href=\"/category/esports/\">Esports</a>\\n\\t\\t\\t\\t\\t\\t\\t\\t</div>\\n\\t\\t\\t\\t\\t\\t\\t</div>\\n\\t\\t\\t\\t\\t\\t\\t<div class=\"row news-row\">\\n\\t\\t\\t\\t\\t\\t\\t\\t<div class=\"col-xs-6\">\\n\\t\\t\\t\\t\\t\\t\\t\\t\\t<a href=\"/category/ai/\">AI</a>\\n\\t\\t\\t\\t\\t\\t\\t\\t</div>\\n\\t\\t\\t\\t\\t\\t\\t\\t<div class=\"col-xs-6\">\\n\\t\\t\\t\\t\\t\\t\\t\\t\\t<a href=\"/category/heartland-tech/\">Heartland Tech</a>\\n\\t\\t\\t\\t\\t\\t\\t\\t</div>\\n\\t\\t\\t\\t\\t\\t\\t</div>\\n\\t\\t\\t\\t\\t\\t\\t<div class=\"row news-row\">\\n\\t\\t\\t\\t\\t\\t\\t\\t<div class=\"col-xs-6\">\\n\\t\\t\\t\\t\\t\\t\\t\\t\\t<a href=\"/category/arvr/\">AR/VR</a>\\n\\t\\t\\t\\t\\t\\t\\t\\t</div>\\n\\t\\t\\t\\t\\t\\t\\t\\t<div class=\"col-xs-6\">\\n\\t\\t\\t\\t\\t\\t\\t\\t\\t<a href=\"/category/marketing/\">Marketing</a>\\n\\t\\t\\t\\t\\t\\t\\t\\t</div>\\n\\t\\t\\t\\t\\t\\t\\t</div>\\n\\t\\t\\t\\t\\t\\t\\t<div class=\"row news-row\">\\n\\t\\t\\t\\t\\t\\t\\t\\t<div class=\"col-xs-6\">\\n\\t\\t\\t\\t\\t\\t\\t\\t\\t<a href=\"/category/big-data/\">Big Data</a>\\n\\t\\t\\t\\t\\t\\t\\t\\t</div>\\n\\t\\t\\t\\t\\t\\t\\t\\t<div class=\"col-xs-6\">\\n\\t\\t\\t\\t\\t\\t\\t\\t\\t<a href=\"/category/media/\">Media</a>\\n\\t\\t\\t\\t\\t\\t\\t\\t</div>\\n\\t\\t\\t\\t\\t\\t\\t</div>\\n\\t\\t\\t\\t\\t\\t\\t<div class=\"row news-row\">\\n\\t\\t\\t\\t\\t\\t\\t\\t<div class=\"col-xs-6\">\\n\\t\\t\\t\\t\\t\\t\\t\\t\\t<a href=\"/category/business/\">Business</a>\\n\\t\\t\\t\\t\\t\\t\\t\\t</div>\\n\\t\\t\\t\\t\\t\\t\\t\\t<div class=\"col-xs-6\">\\n\\t\\t\\t\\t\\t\\t\\t\\t\\t<a href=\"/category/mobile/\">Mobile</a>\\n\\t\\t\\t\\t\\t\\t\\t\\t</div>\\n\\t\\t\\t\\t\\t\\t\\t</div>\\n\\t\\t\\t\\t\\t\\t\\t<div class=\"row news-row\">\\n\\t\\t\\t\\t\\t\\t\\t\\t<div class=\"col-xs-6\">\\n\\t\\t\\t\\t\\t\\t\\t\\t\\t<a href=\"/category/cloud/\">Cloud</a>\\n\\t\\t\\t\\t\\t\\t\\t\\t</div>\\n\\t\\t\\t\\t\\t\\t\\t\\t<div class=\"col-xs-6\">\\n\\t\\t\\t\\t\\t\\t\\t\\t\\t<a href=\"/category/pc-gaming/\">PC Gaming</a>\\n\\t\\t\\t\\t\\t\\t\\t\\t</div>\\n\\t\\t\\t\\t\\t\\t\\t</div>\\n\\t\\t\\t\\t\\t\\t\\t<div class=\"row news-row\">\\n\\t\\t\\t\\t\\t\\t\\t<div class=\"col-xs-6\">\\n\\t\\t\\t\\t\\t\\t\\t\\t<a href=\"/category/commerce/\">Commerce</a>\\n\\t\\t\\t\\t\\t\\t\\t</div>\\n\\t\\t\\t\\t\\t\\t\\t\\t<div class=\"col-xs-6\">\\n\\t\\t\\t\\t\\t\\t\\t\\t\\t<a href=\"/category/security/\">Security</a>\\n\\t\\t\\t\\t\\t\\t\\t\\t</div>\\n\\t\\t\\t\\t\\t\\t\\t</div>\\n\\t\\t\\t\\t\\t\\t\\t<div class=\"row news-row\">\\n\\t\\t\\t\\t\\t\\t\\t\\t<div class=\"col-xs-6\">\\n\\t\\t\\t\\t\\t\\t\\t\\t\\t<a href=\"/category/dev/\">Dev</a>\\n\\t\\t\\t\\t\\t\\t\\t\\t</div>\\n\\t\\t\\t\\t\\t\\t\\t\\t<div class=\"col-xs-6\">\\n\\t\\t\\t\\t\\t\\t\\t\\t\\t<a href=\"/category/social/\">Social</a>\\n\\t\\t\\t\\t\\t\\t\\t\\t</div>\\n\\t\\t\\t\\t\\t\\t\\t</div>\\n\\t\\t\\t\\t\\t\\t\\t<div class=\"row news-row\">\\n\\t\\t\\t\\t\\t\\t\\t\\t<div class=\"col-xs-6\">\\n\\t\\t\\t\\t\\t\\t\\t\\t\\t<a href=\"/category/enterprise/\">Enterprise</a>\\n\\t\\t\\t\\t\\t\\t\\t\\t</div>\\n\\t\\t\\t\\t\\t\\t\\t\\t<div class=\"col-xs-6\">\\n\\t\\t\\t\\t\\t\\t\\t\\t\\t<a href=\"/category/transportation/\">Transportation</a>\\n\\t\\t\\t\\t\\t\\t\\t\\t</div>\\n\\t\\t\\t\\t\\t\\t\\t</div>\\n\\t\\t\\t\\t\\t\\t\\t<div class=\"row news-row\">\\n\\t\\t\\t\\t\\t\\t\\t\\t<div class=\"col-xs-6\">\\n\\t\\t\\t\\t\\t\\t\\t\\t\\t<a href=\"/category/entrepreneur/\">Entrepreneur</a>\\n\\t\\t\\t\\t\\t\\t\\t\\t</div>\\n\\t\\t\\t\\t\\t\\t\\t</div>\\n\\t\\t\\t\\t\\t\\t</div>\\n\\t\\t\\t\\t\\t</li>\\n\\n\\n\\t\\t\\t\\t\\t<li class=\"mobile-nav-row\" id=\"mobile-events-row\">\\n\\t\\t\\t\\t\\t\\t<h3 class=\"mobile-nav-link\" data-id=\"mobile-events\">\\n\\t\\t\\t\\t\\t\\t\\t<span class=\"left-caret\" id=\"mobile-events-left-caret\">&#8249;</span>\\n\\t\\t\\t\\t\\t\\t\\t\\tEVENTS\\n\\t\\t\\t\\t\\t\\t\\t<span class=\"pull-right right-caret\" id=\"mobile-events-right-caret\">&#8250;</span>\\n\\t\\t\\t\\t\\t\\t</h3>\\n\\t\\t\\t\\t\\t\\t<div id=\"mobile-events\" class=\"mobile-main-subnav\">\\n\\t\\t\\t\\t\\t\\t\\t<div class=\"header-container\">\\n\\t\\t\\t\\t\\t\\t\\t\\t<h3 class=\"header\">VB EVENTS</h3>\\n\\t\\t\\t\\t\\t\\t\\t</div>\\n\\t\\t\\t\\t\\t\\t\\t<div class=\"row news-row\">\\n\\t\\t\\t\\t\\t\\t\\t\\t<div class=\"col-xs-6\">\\n\\t\\t\\t\\t\\t\\t\\t\\t\\t<a href=\"/events/#upcoming_events\">Upcoming Events</a>\\n\\t\\t\\t\\t\\t\\t\\t\\t</div>\\n\\t\\t\\t\\t\\t\\t\\t</div>\\n\\t\\t\\t\\t\\t\\t\\t<div class=\"header-container\">\\n\\t\\t\\t\\t\\t\\t\\t\\t<h3 class=\"header\">GET INVOLVED</h3>\\n\\t\\t\\t\\t\\t\\t\\t</div>\\n\\t\\t\\t\\t\\t\\t\\t<div class=\"row news-row\">\\n\\t\\t\\t\\t\\t\\t\\t\\t<div class=\"col-xs-6\">\\n\\t\\t\\t\\t\\t\\t\\t\\t\\t<a href=\"https://vbevents.venturebeat.com/sponsorpage\">Sponsor</a>\\n\\t\\t\\t\\t\\t\\t\\t\\t</div>\\n\\t\\t\\t\\t\\t\\t\\t\\t<div class=\"col-xs-6\">\\n\\t\\t\\t\\t\\t\\t\\t\\t\\t<a href=\"mailto:partners@venturebeat.com\">Media Partner</a>\\n\\t\\t\\t\\t\\t\\t\\t\\t</div>\\n\\t\\t\\t\\t\\t\\t\\t</div>\\n\\t\\t\\t\\t\\t\\t\\t<div class=\"row news-row\">\\n\\t\\t\\t\\t\\t\\t\\t\\t<div class=\"col-xs-6\">\\n\\t\\t\\t\\t\\t\\t\\t\\t\\t<a href=\"https://docs.google.com/a/venturebeat.com/forms/d/1wtWn2vpDjjVFxX5_4c4Ztv5LFiyRXlokDl-_ZOsIav8/viewform\">Volunteer</a>\\n\\t\\t\\t\\t\\t\\t\\t\\t</div>\\n\\t\\t\\t\\t\\t\\t\\t</div>\\n\\t\\t\\t\\t\\t\\t</div>\\n\\t\\t\\t\\t\\t</li>\\n\\n\\n\\t\\t\\t\\t\\t<li class=\"mobile-nav-row\">\\n\\t\\t\\t\\t\\t\\t<h3>\\n\\t\\t\\t\\t\\t\\t\\t\\t<a href=\"/newsletters/\">NEWSLETTERS</a>\\n\\t\\t\\t\\t\\t\\t</h3>\\n\\t\\t\\t\\t\\t</li>\\n\\n\\n\\t\\t\\t\\t\\t<li class=\"mobile-nav-row\" id=\"mobile-venturebeat-row\">\\n\\t\\t\\t\\t\\t\\t<h3 class=\"mobile-nav-link\" data-id=\"mobile-venturebeat\">\\n\\t\\t\\t\\t\\t\\t\\t<span class=\"left-caret\" id=\"mobile-venturebeat-left-caret\">&#8249;</span>\\n\\t\\t\\t\\t\\t\\t\\t\\tVENTUREBEAT\\n\\t\\t\\t\\t\\t\\t\\t<span class=\"pull-right right-caret\" id=\"mobile-venturebeat-right-caret\">&#8250;</span>\\n\\t\\t\\t\\t\\t\\t</h3>\\n\\t\\t\\t\\t\\t\\t<div id=\"mobile-venturebeat\" class=\"mobile-main-subnav\">\\n\\t\\t\\t\\t\\t\\t\\t<div class=\"row news-row\">\\n\\t\\t\\t\\t\\t\\t\\t\\t<div class=\"col-xs-6\">\\n\\t\\t\\t\\t\\t\\t\\t\\t\\t<a href=\"/about/\">About</a>\\n\\t\\t\\t\\t\\t\\t\\t\\t</div>\\n\\t\\t\\t\\t\\t\\t\\t\\t<div class=\"col-xs-6\">\\n\\t\\t\\t\\t\\t\\t\\t\\t\\t<a href=\"/advertise/\">Advertise</a>\\n\\t\\t\\t\\t\\t\\t\\t\\t</div>\\n\\t\\t\\t\\t\\t\\t\\t</div>\\n\\t\\t\\t\\t\\t\\t\\t<div class=\"row news-row\">\\n\\t\\t\\t\\t\\t\\t\\t\\t<div class=\"col-xs-6\">\\n\\t\\t\\t\\t\\t\\t\\t\\t\\t<a href=\"/careers/\">Careers</a>\\n\\t\\t\\t\\t\\t\\t\\t\\t</div>\\n\\t\\t\\t\\t\\t\\t\\t\\t<div class=\"col-xs-6\">\\n\\t\\t\\t\\t\\t\\t\\t\\t\\t<a href=\"/contact/\">Contact</a>\\n\\t\\t\\t\\t\\t\\t\\t\\t</div>\\n\\t\\t\\t\\t\\t\\t\\t</div>\\n\\t\\t\\t\\t\\t\\t</div>\\n\\t\\t\\t\\t\\t</li>\\n\\t\\t\\t\\t</ul>\\n\\t\\t\\t</div>\\n\\n\\t\\t\\t<!-- Mobile Omni Links -->\\n\\t\\t\\t<div id=\"mobile-lower\">\\n\\t\\t\\t\\t<div id=\"mobile-omni-links\">\\n\\t\\t\\t\\t\\t<div class=\"row\">\\n\\t\\t\\t\\t\\t\\t<div class=\"col-xs-6\">\\n\\t\\t\\t\\t\\t\\t\\t<ul>\\n\\t\\t\\t\\t\\t\\t\\t\\t<li class=\"top\"><a href=\"/contact/\">Got a news tip?</a></li>\\n\\t\\t\\t\\t\\t\\t\\t\\t<li class=\"top\"><a href=\"/tag/business-sponsored-company-news/\">Press Releases</a></li>\\n\\t\\t\\t\\t\\t\\t\\t</ul>\\n\\t\\t\\t\\t\\t\\t</div>\\n\\t\\t\\t\\t\\t\\t<div class=\"col-xs-6\">\\n\\t\\t\\t\\t\\t\\t\\t<ul>\\n\\t\\t\\t\\t\\t\\t\\t\\t<li class=\"top\"><a href=\"/webinars/\">Webinars</a></li>\\n\\t\\t\\t\\t\\t\\t\\t\\t<li class=\"top\"><a href=\"/privacy-policy/\">Privacy Policy</a></li>\\n\\t\\t\\t\\t\\t\\t\\t</ul>\\n\\t\\t\\t\\t\\t\\t</div>\\n\\t\\t\\t\\t\\t\\t \\n\\t\\t\\t\\t\\t</div>\\n\\t\\t\\t\\t</div>\\n\\n\\t\\t\\t</div>\\n\\t\\t</div>\\n\\t</div>\\n\\n\\n</nav>\\n\\n\\t\\t<div class=\"skin-wrapper\">\\n\\t\\t\\t<div id=\"\" class=\"vb-ad-leaderboard article-page\">\\n\\t\\t\\t\\t\\t\\t\\t\\t<div id=\"a1-p1-s1\" data-sizes=\"[[728,90],[970,90],[970,250]]\" class=\"adslot adslot-leaderboard\" >\\n\\t\\t\\t\\t</div>\\n\\n\\t\\t\\t</div>\\n\\n\\t\\t<div id=\"sticky-wrapper\">\\n\\t<div class=\"social-shares\">\\n\\t\\t<div class=\"social-buttons\">\\n\\t\\t\\t<!-- Facebook share button -->\\n\\t\\t\\t<div class=\"share-button share-facebook\">\\n\\t\\t\\t\\t<a class=\"share\" data-share-site=\"facebook\"></a>\\n\\t\\t\\t</div>\\n\\t\\t\\t<!-- Twitter share button -->\\n\\t\\t\\t<div class=\"share-button share-twitter\">\\n\\t\\t\\t\\t<a class=\"share\" data-share-site=\"twitter\"></a>\\n\\t\\t\\t</div>\\n\\t\\t\\t<!-- LinkedIn share button -->\\n\\t\\t\\t<div class=\"share-button share-linkedin\">\\n\\t\\t\\t\\t<a class=\"share\" data-share-site=\"linkedin\"></a>\\n\\t\\t\\t</div>\\n\\t\\t\\t<!-- Reddit share button -->\\n\\t\\t\\t<div class=\"share-button share-reddit\">\\n\\t\\t\\t\\t<a class=\"share\" data-share-site=\"reddit\"></a>\\n\\t\\t\\t</div>\\n\\t\\t\\t<!-- Hacker News share button -->\\n\\t\\t\\t<div class=\"share-button share-stumbleupon\">\\n\\t\\t\\t\\t<a class=\"share\" data-share-site=\"hacker-news\"></a>\\n\\t\\t\\t</div>\\n\\t\\t\\t<!-- Flipboard share button -->\\n\\t\\t\\t<div class=\"share-button share-flipboard\">\\n\\t\\t\\t\\t<a class=\"share\" data-flip-widget=\"shareflip\" href=\"https://flipboard.com\" data-share-site=\"flipboard\"></a>\\n\\t\\t\\t</div>\\n\\t\\t</div>\\n\\t</div>\\n</div>\\n\\t\\t\\n\\t\\t<!-- Set up hero image if page css requires one -->\\n\\t\\t\\n\\t\\t<div class=\"body-container container clearfix\">\\t\\t<div id=\"article-masthead\">\\n\\t\\t\\t<header class=\"article-header\">\\n\\n\\t\\t\\t\\t<div>\\n\\t\\t\\t\\t\\t\\t\\t\\t\\t\\t\\t<a class=\"article-category\" href=\"https://venturebeat.com/category/social\">SOCIAL</a>\\n\\t\\t\\t\\t\\t\\n\\t\\t\\t\\t\\t\\t\\t\\t\\t</div>\\n\\t\\t\\t\\t<h1 class=\"article-title\">Facebook introduces new video ad programs, says 100 million people watch content eligible for In-Stream Reserve</h1>\\n\\t\\t\\t\\t<div class=\"article-byline\">\\n\\t\\t\\t\\t\\t<a href=\"https://venturebeat.com/author/kylewiggers/\" title=\"Posts by Kyle Wiggers\" class=\"author url fn\" rel=\"author\">Kyle Wiggers</a><a href=\"https://twitter.com/Kyle_L_Wiggers\" target=\"_blank\" class=\"author-twitter\">@Kyle_L_Wiggers</a>\\t\\t\\t\\t\\t<time class=\"the-time\" title=\"2019-02-26T15:45:20+00:00\" datetime=\"2019-02-26T15:45:20+00:00\">February 26, 2019 7:45 AM</time>\\n\\t\\t\\t\\t</div><!-- .article-byline -->\\n\\n\\t\\t\\t</header><!-- .article-header -->\\n\\n\\t\\t\\t\\t\\t\\t<div class=\"article-media-header\">\\n\\t\\t\\t\\t<img width=\"578\" height=\"400\" src=\"https://venturebeat.com/wp-content/uploads/2017/08/newsroom-hero_android_v3_2x.png?fit=578%2C400&amp;strip=all\" class=\"attachment-single-feed size-single-feed wp-post-image\" alt=\"\" srcset=\"https://venturebeat.com/wp-content/uploads/2017/08/newsroom-hero_android_v3_2x.png?w=1444&amp;strip=all 1444w, https://venturebeat.com/wp-content/uploads/2017/08/newsroom-hero_android_v3_2x.png?w=300&amp;strip=all 300w, https://venturebeat.com/wp-content/uploads/2017/08/newsroom-hero_android_v3_2x.png?w=768&amp;strip=all 768w, https://venturebeat.com/wp-content/uploads/2017/08/newsroom-hero_android_v3_2x.png?w=800&amp;strip=all 800w, https://venturebeat.com/wp-content/uploads/2017/08/newsroom-hero_android_v3_2x.png?w=400&amp;strip=all 400w, https://venturebeat.com/wp-content/uploads/2017/08/newsroom-hero_android_v3_2x.png?w=780&amp;strip=all 780w, https://venturebeat.com/wp-content/uploads/2017/08/newsroom-hero_android_v3_2x.png?w=578&amp;strip=all 578w, https://venturebeat.com/wp-content/uploads/2017/08/newsroom-hero_android_v3_2x.png?w=930&amp;strip=all 930w\" sizes=\"(max-width: 578px) 100vw, 578px\" /><div class=\"wp-caption\"><p class=\"wp-caption-text\">Above: Watch on Facebook</p><div class=\"vb_image_source\">Image Credit: Facebook</div></div>\\t\\t\\t</div><!-- .article-media-header -->\\n\\t\\t\\t\\n\\t\\t\\t\\t\\t\\t\\n<div id=\"secondary\" class=\"column widget-area\">\\n\\t<aside role=\"complementary\">\\n\\t\\t<div class=\"xoxo\">\\n\\t\\t\\t\\t<div class=\"widget dfp-placeholder\">\\n\\t\\t\\t\\t\\t\\t<div id=\"a1-p1-s2\" data-sizes=\"[[300,250],[300,600],[300,1050]]\" class=\"adslot adslot-medrec\">\\n\\t\\t\\t</div>\\n\\t\\t\\t\\t\\t</div>\\n\\n\\t\\t\\t\\t\\t<div class=\"vb_widget widget\">\\n\\t\\t\\t\\t<div class=\"vb-recent-posts-widget\">\\n\\t\\t\\t\\t\\t<h2 class=\"widgettitle\">MOST READ</h2>\\n\\t\\t\\t\\t\\t<ul class=\"recent-posts-list\">\\n\\t\\t\\t\\t\\t\\t\\t\\t\\t\\t\\t\\t\\t\\t\\t\\t\\t<li class=\"mini-post\">\\n\\t\\t\\t\\t\\t\\t\\t\\t\\t\\t\\t\\t\\t<div class=\"image-wrap\">\\n\\t\\t\\t\\t\\t\\t\\t\\t<a class=\"post-title\" href=\"https://venturebeat.com/2019/02/26/google-open-sources-cloud-iot-device-sdk-a-collection-of-libraries-for-embedded-microcontroller-class-devices/\">\\n\\t\\t\\t\\t\\t\\t\\t\\t\\t<img width=\"350\" height=\"175\" src=\"https://venturebeat.com/wp-content/uploads/2018/11/00100lPORTRAIT_00100_BURST20181029125257083_COVER-2.jpg?resize=350%2C175&amp;strip=all\" class=\"attachment-river-wide-2x1 size-river-wide-2x1 wp-post-image\" alt=\"Google Cloud\" />\\t\\t\\t\\t\\t\\t\\t\\t</a>\\n\\t\\t\\t\\t\\t\\t\\t</div>\\n\\t\\t\\t\\t\\t\\t\\t\\t\\t\\t\\t\\t\\t<div class=\"post-box\">\\n\\t\\t\\t\\t\\t\\t\\t\\t<a class=\"post-title\" href=\"https://venturebeat.com/2019/02/26/google-open-sources-cloud-iot-device-sdk-a-collection-of-libraries-for-embedded-microcontroller-class-devices/\">\\n\\t\\t\\t\\t\\t\\t\\t\\t\\tGoogle open-sources Cloud IoT Device SDK, a collection of libraries for embedded microcontroller-class devices\\t\\t\\t\\t\\t\\t\\t\\t</a>\\n\\t\\t\\t\\t\\t\\t\\t</div>\\n\\t\\t\\t\\t\\t\\t</li>\\n\\t\\t\\t\\t\\t\\t\\t\\t\\t\\t\\t\\t\\t\\t\\t\\t\\t<li class=\"mini-post\">\\n\\t\\t\\t\\t\\t\\t\\t\\t\\t\\t\\t\\t\\t<div class=\"image-wrap\">\\n\\t\\t\\t\\t\\t\\t\\t\\t<a class=\"post-title\" href=\"https://venturebeat.com/2019/02/25/1tb-micro-sd-nintendo-switch/\">\\n\\t\\t\\t\\t\\t\\t\\t\\t\\t<img width=\"350\" height=\"175\" src=\"https://venturebeat.com/wp-content/uploads/2019/02/sandisk.jpg?resize=350%2C175&amp;strip=all\" class=\"attachment-river-wide-2x1 size-river-wide-2x1 wp-post-image\" alt=\"You could download every eShop release for almost two whole weeks.\" />\\t\\t\\t\\t\\t\\t\\t\\t</a>\\n\\t\\t\\t\\t\\t\\t\\t</div>\\n\\t\\t\\t\\t\\t\\t\\t\\t\\t\\t\\t\\t\\t<div class=\"post-box\">\\n\\t\\t\\t\\t\\t\\t\\t\\t<a class=\"post-title\" href=\"https://venturebeat.com/2019/02/25/1tb-micro-sd-nintendo-switch/\">\\n\\t\\t\\t\\t\\t\\t\\t\\t\\tYou can get a 1TB microSD card for your Nintendo Switch for $450\\t\\t\\t\\t\\t\\t\\t\\t</a>\\n\\t\\t\\t\\t\\t\\t\\t</div>\\n\\t\\t\\t\\t\\t\\t</li>\\n\\t\\t\\t\\t\\t\\t\\t\\t\\t\\t\\t\\t\\t\\t\\t\\t\\t<li class=\"mini-post\">\\n\\t\\t\\t\\t\\t\\t\\t\\t\\t\\t\\t\\t\\t<div class=\"image-wrap\">\\n\\t\\t\\t\\t\\t\\t\\t\\t<a class=\"post-title\" href=\"https://venturebeat.com/2019/02/25/amazon-launches-third-alexa-accelerator-for-conversational-startups/\">\\n\\t\\t\\t\\t\\t\\t\\t\\t\\t<img width=\"350\" height=\"175\" src=\"https://venturebeat.com/wp-content/uploads/2018/11/alexa.shutterstock_1127033597.jpg?resize=350%2C175&amp;strip=all\" class=\"attachment-river-wide-2x1 size-river-wide-2x1 wp-post-image\" alt=\"\" />\\t\\t\\t\\t\\t\\t\\t\\t</a>\\n\\t\\t\\t\\t\\t\\t\\t</div>\\n\\t\\t\\t\\t\\t\\t\\t\\t\\t\\t\\t\\t\\t<div class=\"post-box\">\\n\\t\\t\\t\\t\\t\\t\\t\\t<a class=\"post-title\" href=\"https://venturebeat.com/2019/02/25/amazon-launches-third-alexa-accelerator-for-conversational-startups/\">\\n\\t\\t\\t\\t\\t\\t\\t\\t\\tAmazon launches third Alexa Accelerator for conversational startups\\t\\t\\t\\t\\t\\t\\t\\t</a>\\n\\t\\t\\t\\t\\t\\t\\t</div>\\n\\t\\t\\t\\t\\t\\t</li>\\n\\t\\t\\t\\t\\t\\t\\t\\t\\t\\t\\t\\t\\t\\t\\t\\t\\t<li class=\"mini-post\">\\n\\t\\t\\t\\t\\t\\t\\t\\t\\t\\t\\t\\t\\t<div class=\"image-wrap\">\\n\\t\\t\\t\\t\\t\\t\\t\\t<a class=\"post-title\" href=\"https://venturebeat.com/2019/02/25/facebook-inks-partnerships-to-bring-more-people-online/\">\\n\\t\\t\\t\\t\\t\\t\\t\\t\\t<img width=\"350\" height=\"175\" src=\"https://venturebeat.com/wp-content/uploads/2019/02/facebook-connectivity.jpg?resize=350%2C175&amp;strip=all\" class=\"attachment-river-wide-2x1 size-river-wide-2x1 wp-post-image\" alt=\"\" />\\t\\t\\t\\t\\t\\t\\t\\t</a>\\n\\t\\t\\t\\t\\t\\t\\t</div>\\n\\t\\t\\t\\t\\t\\t\\t\\t\\t\\t\\t\\t\\t<div class=\"post-box\">\\n\\t\\t\\t\\t\\t\\t\\t\\t<a class=\"post-title\" href=\"https://venturebeat.com/2019/02/25/facebook-inks-partnerships-to-bring-more-people-online/\">\\n\\t\\t\\t\\t\\t\\t\\t\\t\\tFacebook inks partnerships to bring more people online\\t\\t\\t\\t\\t\\t\\t\\t</a>\\n\\t\\t\\t\\t\\t\\t\\t</div>\\n\\t\\t\\t\\t\\t\\t</li>\\n\\t\\t\\t\\t\\t\\t\\t\\t\\t\\t\\t\\t\\t\\t\\t\\t\\t<li class=\"mini-post\">\\n\\t\\t\\t\\t\\t\\t\\t\\t\\t\\t\\t\\t\\t<div class=\"image-wrap\">\\n\\t\\t\\t\\t\\t\\t\\t\\t<a class=\"post-title\" href=\"https://venturebeat.com/2019/02/25/microsoft-ceo-satya-nadella-tries-to-bring-a-little-star-power-and-vision-to-mwc-barcelona-19/\">\\n\\t\\t\\t\\t\\t\\t\\t\\t\\t<img width=\"350\" height=\"175\" src=\"https://venturebeat.com/wp-content/uploads/2019/02/satya-stage-4-1.jpg?resize=350%2C175&amp;strip=all\" class=\"attachment-river-wide-2x1 size-river-wide-2x1 wp-post-image\" alt=\"Microsoft CEO Satya Nadella\" />\\t\\t\\t\\t\\t\\t\\t\\t</a>\\n\\t\\t\\t\\t\\t\\t\\t</div>\\n\\t\\t\\t\\t\\t\\t\\t\\t\\t\\t\\t\\t\\t<div class=\"post-box\">\\n\\t\\t\\t\\t\\t\\t\\t\\t<a class=\"post-title\" href=\"https://venturebeat.com/2019/02/25/microsoft-ceo-satya-nadella-tries-to-bring-a-little-star-power-and-vision-to-mwc-barcelona-19/\">\\n\\t\\t\\t\\t\\t\\t\\t\\t\\tMicrosoft CEO Satya Nadella tries to bring a little star power and vision to MWC Barcelona 19\\t\\t\\t\\t\\t\\t\\t\\t</a>\\n\\t\\t\\t\\t\\t\\t\\t</div>\\n\\t\\t\\t\\t\\t\\t</li>\\n\\t\\t\\t\\t\\t\\t\\t\\t\\t\\t</ul>\\n\\t\\t\\t\\t</div>\\n\\t\\t\\t</div>\\n\\t\\t\\t\\t\\t<div class=\"widget dfp-placeholder\">\\n\\t\\t\\t\\t\\t\\t<div id=\"a0-p2-s2\" data-sizes=\"[300,250]\" class=\"adslot adslot-medrec\">\\n\\t\\t\\t</div>\\n\\t\\t\\t\\t\\t</div>\\n\\n\\t\\t\\t\\t<div class=\"vb_widget widget\">\\n\\t\\t\\t<div class=\"vb-upcoming-events\">\\n\\t\\t\\t\\t\\t\\t\\t\\t<h2 class=\"widgettitle\">UPCOMING EVENTS</h2>\\n\\t\\t\\t\\t\\t\\t\\t\\t<ul class=\"recent-posts-list\">\\n\\t\\t\\t\\t\\t\\t\\t\\t\\t\\t<li class=\"mini-post\">\\n\\t\\t\\t\\t\\t\\t<a href=\"https://vbevents.venturebeat.com/events/BlueprintYork\" class=\"event-link\">BLUEPRINT:</a>\\n\\t\\t\\t\\t\\t\\t<span class=\"event-date\">Mar. 26 - 28</span>\\n\\t\\t\\t\\t\\t</li>\\n\\t\\t\\t\\t\\t\\t\\t\\t\\t\\t<li class=\"mini-post\">\\n\\t\\t\\t\\t\\t\\t<a href=\"https://vbevents.venturebeat.com/GamesBeatSummit2019\" class=\"event-link\">GamesBeat Summit:</a>\\n\\t\\t\\t\\t\\t\\t<span class=\"event-date\">Apr. 23 - 24</span>\\n\\t\\t\\t\\t\\t</li>\\n\\t\\t\\t\\t\\t\\t\\t\\t\\t\\t<li class=\"mini-post\">\\n\\t\\t\\t\\t\\t\\t<a href=\"https://www.vbtransform.com/\" class=\"event-link\">Transform:</a>\\n\\t\\t\\t\\t\\t\\t<span class=\"event-date\">Jul. 10 - 11</span>\\n\\t\\t\\t\\t\\t</li>\\n\\t\\t\\t\\t\\t\\t\\t\\t\\t</ul>\\n\\t\\t\\t</div>\\n\\t\\t</div>\\n\\t\\t\\t\\t<div class=\"widget dfp-placeholder\">\\n\\t\\t\\t\\t\\t\\t<div id=\"a0-p4-s2\" data-sizes=\"[300,250]\" class=\"adslot adslot-medrec\">\\n\\t\\t\\t</div>\\n\\t\\t\\t\\t\\t</div>\\n\\n\\t\\t\\t\\t</div>\\n\\t</aside>\\n</div><!-- #secondary .widget-area -->\\n\\n\\t\\t</div><!-- #article-masthead -->\\n\\n\\n\\t\\t<div id=\"primary\">\\n\\t\\t\\t<div id=\"content\" role=\"main\">\\n\\n\\t\\t\\t<article id=\"post-2468023\" class=\"border-top clearfix article-wrapper post-2468023 post type-post status-publish format-standard has-post-thumbnail category-apps category-media category-social tag-advertising tag-category-arts-entertainment-online-media tag-category-arts-entertainment-tv-video-online-video tag-category-business-industrial-business-services tag-facebook tag-in-stream-reserve tag-marketing-2 tag-video vb_post_designations-homepage has-thumbnail\">\\n\\n\\t\\t\\t\\t<div class=\"article-content\">\\n\\t\\t\\t\\t\\t<p>At a media event in New York City today, Facebook gave an update on its video strategy.</p>\\n<p>It announced Showcase, a premium video ad program that affords online video and TV ad buyers &#8220;more opportunities&#8221; to reach target audiences. It rolled out new content packages &#8212; Food and News &#8212; for In-Stream Reserve, a program that places fixed-cost ads in &#8220;hundreds&#8221; of videos from publishers and creators. (They join the existing Sports, Fashion/Beauty, and Entertainment categories.) And lastly, it unveiled Sponsorships, which allow advertisers to exclusively sponsor a program for U.S. viewers and optionally have their ads appear in videos with similar themes.</p>\\n<p>&#8220;When we [launched] Facebook Watch over 18 months ago to build a destination for people to come together with friends and family to catch up on video &#8230; we started &#8230; just in the US, [and] made it a closed platform,&#8221; Matthew Henick, head of Facebook&#8217;s content strategy, said. &#8220;The main feedback we heard that they wanted a broader and more diverse set of content.&#8221;</p>\\n<p>According to Facebook, more than 100 million people in the U.S. watch content eligible for In-Stream Reserve, and 43 percent of that audience is aged 18-34 &#8212; a demographic that&#8217;s highly coveted by advertisers. (That&#8217;s compared with an estimated 28 percent of TV viewers.) Its other leg up over traditional video mediums, Facebook contends, is metrics in abundance: it offers Nielsen Total Ad Ratings, Digital Ad Ratings, and brand lift offerings both in-house and from Nielsen.</p>\\n<p>Facebook claims that across 13 brand lift studies, In-Stream Reserve drove positive ad recall lift.</p>\\n<p>More than 400 million people watch at least one video on Facebook every month, and 75 million daily visitors consume that content, Facebook says. That growth is driven in part by investments in original programming, it claims, like a new animated comedy series &#8212; <em>Human Discoveries &#8212; </em>starring Zac Efron and Anna Kendrick, a reboot of MTV&#8217;s The Real World with local versions in the U.S., Mexico, and Thailand, <em>Returning the Favor</em>, and <em>Red Table Talk</em>.</p>\\n<div id=\\'pressboard-ad-sponsorship-msg\\'></div>\\n\\t\\t\\t\\t</div><!-- .article-content -->\\n\\n\\t\\t\\t</article><!-- #post-2468023 .article-wrapper -->\\n\\n\\t\\t\\t</div><!-- #content -->\\n\\t\\t</div><!-- #primary -->\\n\\n\\n\\n\\t</div><!-- END .body-container -->\\n\\t</div><!-- END .skin-wrapper -->\\n\\n\\t\\n\\t\\t\\n\\t\\t\\t\\t\\t<div id=\"ROS_Skin\" class=\"adslot adslot-custom adslot-skin\" data-sizes=\"[1,1]\"></div>\\n\\t\\t\\t<div id=\"ROS_HB\" class=\"adslot adslot-custom\" data-sizes=\"[1,1]\"></div>\\n\\t\\t\\n\\t\\t\\n\\t\\t\\t\\t\\t<div id=\"ROS_BP\" class=\"adslot adslot-custom\" data-sizes=\"[1,1]\"></div>\\n\\t\\t\\t<div id=\"ROS_Zedo\" class=\"adslot adslot-custom\" data-sizes=\"[1,1]\"></div>\\n\\t\\t\\t\\t\\t\\t\\t<script src=\"https://cdn.flipboard.com/web/buttons/js/flbuttons.min.js\" type=\"text/javascript\" async=\"true\"></script>\\t\\t<!-- Quantcast Measure Tag -->\\n\\t\\t<script>\\n\\t\\t var ezt = ezt ||[];\\n\\t\\t var vb_labels = \\'\\';\\n\\t\\t var eztObj = {\\n\\t\\t \\tqacct: \\'p-UkS7f9ZMSZ6hP\\',\\n\\t\\t  uid: \\'\\'\\n\\t\\t };\\n\\n\\t\\t (function(){\\n\\t\\t   var elem = document.createElement(\\'script\\');\\n\\t\\t   elem.src = (document.location.protocol == \"https:\" ? \"https://secure\" : \"http://pixel\") + \".quantserve.com/aquant.js?a=p-UkS7f9ZMSZ6hP\";\\n\\t\\t   elem.async = true;\\n\\t\\t   elem.type = \"text/javascript\";\\n\\t\\t   var scpt = document.getElementsByTagName(\\'script\\')[0];\\n\\t\\t   scpt.parentNode.insertBefore(elem,scpt);\\n\\t\\t }());\\n\\n\\t\\t if( typeof vb_page_info !== \\'undefined\\' ) {\\n\\t\\t \\tif( vb_page_info.page_type === \\'single\\' ) {\\n\\n\\t\\t \\t\\tif( typeof vb_page_info.channel !== \\'undefined\\' ) {\\n\\t\\t \\t\\t\\tvb_labels += \\'Channel.\\'+vb_page_info.channel;\\n\\t\\t \\t\\t}\\n\\n\\t\\t \\t\\tif( typeof vb_page_info.authors !== \\'undefined\\' ) {\\n\\t\\t \\t\\t\\tfor( var i = 0; i< vb_page_info.authors.length; i++ ) {\\n\\t\\t \\t\\t\\t\\tif( vb_labels.length > 0 ) {\\n\\t\\t \\t\\t\\t\\t\\tvb_labels += \\',\\';\\n\\t\\t \\t\\t\\t\\t}\\n\\n\\t\\t \\t\\t\\t\\tvb_labels += \\'Author.\\' + vb_page_info.authors[i];\\n\\t\\t \\t\\t\\t}\\n\\t\\t \\t\\t}\\n\\n\\t\\t \\t\\tif( typeof vb_page_info.story_type !== \\'undefined\\' && vb_page_info.story_type) {\\n\\t\\t \\t\\t\\tif( vb_labels.length > 0 ) {\\n\\t\\t \\t\\t\\t\\tvb_labels += \\',\\';\\n\\t\\t \\t\\t\\t}\\n\\t\\t \\t\\t\\tvb_labels += \\'HelmStoryType.\\' + vb_page_info.story_type;\\n\\t\\t \\t\\t}\\n\\t\\t \\t}\\n\\n\\t\\t \\tif( vb_page_info.page_type === \\'category\\' ) {\\n\\t\\t \\t\\tif( typeof vb_page_info.channel !== \\'undefined\\' ) {\\n\\t\\t \\t\\t\\tvb_labels += \\'Channel.\\'+vb_page_info.channel;\\n\\t\\t \\t\\t}\\n\\t\\t \\t}\\n\\n\\t\\t \\tif( vb_page_info.page_type === \\'home\\' ) {\\n\\t\\t \\t\\tvb_labels += \\'Channel.home\\';\\n\\t\\t \\t}\\n\\t\\t }\\n\\n\\t\\t if( vb_labels.length > 0 ) {\\n\\t\\t \\t eztObj.labels = vb_labels;\\n\\t\\t }\\n\\n\\n\\t\\t ezt.push(eztObj);\\n\\t\\t</script>\\n\\t\\t<noscript>\\n\\t\\t  <img src=\"//pixel.quantserve.com/pixel/p-UkS7f9ZMSZ6hP.gif\" style=\"display: none;\" border=\"0\" height=\"1\" width=\"1\" alt=\"Quantcast\"/>\\n\\t\\t</noscript>\\n\\t\\t\\t\\t<!-- Begin comScore Tag -->\\n\\t\\t<script>\\n\\t\\t\\tvar _comscore = _comscore || [];\\n\\t\\t\\t_comscore.push({ c1: \"2\", c2: \"6035753\" });\\n\\t\\t\\t(function() {\\n\\t\\t\\t\\tvar s = document.createElement(\"script\"), el = document.getElementsByTagName(\"script\")[0]; s.async = true;\\n\\t\\t\\t\\ts.src = (document.location.protocol == \"https:\" ? \"https://sb\" : \"http://b\") + \".scorecardresearch.com/beacon.js\";\\n\\t\\t\\t\\tel.parentNode.insertBefore(s, el);\\n\\t\\t\\t})();\\n\\t\\t</script>\\n\\n\\t\\t<noscript>\\n\\t\\t\\t<img src=\"http://b.scorecardresearch.com/p?c1=2&c2=6035753&cv=2.0&cj=1\" />\\n\\t\\t</noscript>\\n\\t\\t<!-- End comScore Tag -->\\n\\t\\t\\t\\t<script type=\"text/javascript\">\\n\\t\\t\\t(function() {\\n\\t\\t\\t\\tvar e = document.createElement(\\'script\\');\\n\\t\\t\\t\\te.type = \\'text/javascript\\';\\n\\t\\t\\t\\te.async = true;\\n\\t\\t\\t\\te.src = (\\'https:\\' == document.location.protocol ? \\'https://\\' : \\'http://\\') + \\'www.lightboxcdn.com/vendor/e2133d86-c7c1-4ef3-9ea1-a331ee7ba433/lightbox_inline.js?mb=\\' + (new Date().getTime());\\n\\t\\t\\t\\tvar s = document.getElementsByTagName(\\'script\\')[0];\\n\\t\\t\\t\\ts.parentNode.insertBefore(e, s);\\n\\t\\t\\t})();\\n\\t\\t</script>\\n\\t\\t<script type=\\'text/javascript\\' src=\\'https://venturebeat.com/_static/??/wp-includes/js/jquery/jquery.js,/wp-content/themes/vb-news/lib/article.min.js,/wp-content/mu-plugins/jetpack/_inc/build/photon/photon.min.js?m=1550883307j\\'></script>\\n<script type=\\'text/javascript\\' src=\\'https://stats.wp.com/e-201909.js\\' async=\\'async\\' defer=\\'defer\\'></script>\\n<script type=\\'text/javascript\\'>\\n\\t_stq = window._stq || [];\\n\\t_stq.push([ \\'view\\', {v:\\'ext\\',j:\\'1:7.0.1\\',blog:\\'126020344\\',post:\\'2468023\\',tz:\\'-8\\',srv:\\'venturebeat.com\\'} ]);\\n\\t_stq.push([ \\'clickTrackerInit\\', \\'126020344\\', \\'2468023\\' ]);\\n</script>\\n</body>\\n</html>\\n'"
      ]
     },
     "execution_count": 4,
     "metadata": {},
     "output_type": "execute_result"
    }
   ],
   "source": [
    "article.html"
   ]
  },
  {
   "cell_type": "code",
   "execution_count": 5,
   "metadata": {},
   "outputs": [],
   "source": [
    "article.parse()"
   ]
  },
  {
   "cell_type": "code",
   "execution_count": 6,
   "metadata": {},
   "outputs": [
    {
     "data": {
      "text/plain": [
       "'Facebook introduces new video ad programs, says 100 million people watch content eligible for In-Stream Reserve'"
      ]
     },
     "execution_count": 6,
     "metadata": {},
     "output_type": "execute_result"
    }
   ],
   "source": [
    "article.title"
   ]
  },
  {
   "cell_type": "code",
   "execution_count": 7,
   "metadata": {},
   "outputs": [
    {
     "data": {
      "text/plain": [
       "['Kyle Wiggers']"
      ]
     },
     "execution_count": 7,
     "metadata": {},
     "output_type": "execute_result"
    }
   ],
   "source": [
    "article.authors"
   ]
  },
  {
   "cell_type": "code",
   "execution_count": 8,
   "metadata": {},
   "outputs": [
    {
     "name": "stdout",
     "output_type": "stream",
     "text": [
      "At a media event in New York City today, Facebook gave an update on its video strategy.\n",
      "\n",
      "It announced Showcase, a premium video ad program that affords online video and TV ad buyers “more opportunities” to reach target audiences. It rolled out new content packages — Food and News — for In-Stream Reserve, a program that places fixed-cost ads in “hundreds” of videos from publishers and creators. (They join the existing Sports, Fashion/Beauty, and Entertainment categories.) And lastly, it unveiled Sponsorships, which allow advertisers to exclusively sponsor a program for U.S. viewers and optionally have their ads appear in videos with similar themes.\n",
      "\n",
      "“When we [launched] Facebook Watch over 18 months ago to build a destination for people to come together with friends and family to catch up on video … we started … just in the US, [and] made it a closed platform,” Matthew Henick, head of Facebook’s content strategy, said. “The main feedback we heard that they wanted a broader and more diverse set of content.”\n",
      "\n",
      "According to Facebook, more than 100 million people in the U.S. watch content eligible for In-Stream Reserve, and 43 percent of that audience is aged 18-34 — a demographic that’s highly coveted by advertisers. (That’s compared with an estimated 28 percent of TV viewers.) Its other leg up over traditional video mediums, Facebook contends, is metrics in abundance: it offers Nielsen Total Ad Ratings, Digital Ad Ratings, and brand lift offerings both in-house and from Nielsen.\n",
      "\n",
      "Facebook claims that across 13 brand lift studies, In-Stream Reserve drove positive ad recall lift.\n",
      "\n",
      "More than 400 million people watch at least one video on Facebook every month, and 75 million daily visitors consume that content, Facebook says. That growth is driven in part by investments in original programming, it claims, like a new animated comedy series — Human Discoveries — starring Zac Efron and Anna Kendrick, a reboot of MTV’s The Real World with local versions in the U.S., Mexico, and Thailand, Returning the Favor, and Red Table Talk.\n"
     ]
    }
   ],
   "source": [
    "print(article.text)"
   ]
  },
  {
   "cell_type": "code",
   "execution_count": 9,
   "metadata": {},
   "outputs": [],
   "source": [
    "article.nlp()"
   ]
  },
  {
   "cell_type": "code",
   "execution_count": 10,
   "metadata": {},
   "outputs": [
    {
     "data": {
      "text/plain": [
       "['facebook',\n",
       " 'program',\n",
       " 'eligible',\n",
       " 'ad',\n",
       " 'million',\n",
       " 'introduces',\n",
       " 'content',\n",
       " 'programs',\n",
       " 'reserve',\n",
       " 'video',\n",
       " 'instream',\n",
       " 'viewers',\n",
       " 'watch']"
      ]
     },
     "execution_count": 10,
     "metadata": {},
     "output_type": "execute_result"
    }
   ],
   "source": [
    "article.keywords"
   ]
  },
  {
   "cell_type": "code",
   "execution_count": 11,
   "metadata": {},
   "outputs": [
    {
     "name": "stdout",
     "output_type": "stream",
     "text": [
      "At a media event in New York City today, Facebook gave an update on its video strategy.\n",
      "It announced Showcase, a premium video ad program that affords online video and TV ad buyers “more opportunities” to reach target audiences.\n",
      "It rolled out new content packages — Food and News — for In-Stream Reserve, a program that places fixed-cost ads in “hundreds” of videos from publishers and creators.\n",
      "Facebook claims that across 13 brand lift studies, In-Stream Reserve drove positive ad recall lift.\n",
      "More than 400 million people watch at least one video on Facebook every month, and 75 million daily visitors consume that content, Facebook says.\n"
     ]
    }
   ],
   "source": [
    "print(article.summary)"
   ]
  },
  {
   "cell_type": "markdown",
   "metadata": {},
   "source": [
    "# Using NLTK"
   ]
  },
  {
   "cell_type": "code",
   "execution_count": 12,
   "metadata": {},
   "outputs": [
    {
     "name": "stderr",
     "output_type": "stream",
     "text": [
      "[nltk_data] Downloading package punkt to\n",
      "[nltk_data]     /Users/mattangriffel/nltk_data...\n",
      "[nltk_data]   Package punkt is already up-to-date!\n"
     ]
    },
    {
     "data": {
      "text/plain": [
       "True"
      ]
     },
     "execution_count": 12,
     "metadata": {},
     "output_type": "execute_result"
    }
   ],
   "source": [
    "nltk.download('punkt')"
   ]
  },
  {
   "cell_type": "code",
   "execution_count": 13,
   "metadata": {},
   "outputs": [],
   "source": [
    "tokens = nltk.word_tokenize(article.text)"
   ]
  },
  {
   "cell_type": "code",
   "execution_count": 14,
   "metadata": {
    "scrolled": true
   },
   "outputs": [
    {
     "data": {
      "text/plain": [
       "[(',', 27),\n",
       " ('and', 15),\n",
       " ('.', 12),\n",
       " ('a', 10),\n",
       " ('in', 9),\n",
       " ('Facebook', 8),\n",
       " ('that', 7),\n",
       " ('video', 6),\n",
       " ('to', 6),\n",
       " ('of', 6),\n",
       " ('—', 5),\n",
       " ('the', 5),\n",
       " ('“', 4),\n",
       " ('”', 4),\n",
       " ('content', 4),\n",
       " ('for', 4),\n",
       " ('it', 4),\n",
       " ('with', 4),\n",
       " ('’', 4),\n",
       " ('s', 4),\n",
       " ('on', 3),\n",
       " ('ad', 3),\n",
       " ('program', 3),\n",
       " ('more', 3),\n",
       " ('In-Stream', 3),\n",
       " ('Reserve', 3),\n",
       " ('U.S.', 3),\n",
       " ('we', 3),\n",
       " ('people', 3),\n",
       " ('million', 3),\n",
       " ('is', 3),\n",
       " ('lift', 3),\n",
       " ('an', 2),\n",
       " ('strategy', 2),\n",
       " ('It', 2),\n",
       " ('TV', 2),\n",
       " ('new', 2),\n",
       " ('ads', 2),\n",
       " ('videos', 2),\n",
       " ('from', 2),\n",
       " ('(', 2),\n",
       " (')', 2),\n",
       " ('advertisers', 2),\n",
       " ('viewers', 2),\n",
       " ('[', 2),\n",
       " (']', 2),\n",
       " ('over', 2),\n",
       " ('up', 2),\n",
       " ('…', 2),\n",
       " ('The', 2),\n",
       " ('than', 2),\n",
       " ('watch', 2),\n",
       " ('percent', 2),\n",
       " ('by', 2),\n",
       " ('That', 2),\n",
       " ('Nielsen', 2),\n",
       " ('Ad', 2),\n",
       " ('Ratings', 2),\n",
       " ('brand', 2),\n",
       " ('claims', 2),\n",
       " ('At', 1),\n",
       " ('media', 1),\n",
       " ('event', 1),\n",
       " ('New', 1),\n",
       " ('York', 1),\n",
       " ('City', 1),\n",
       " ('today', 1),\n",
       " ('gave', 1),\n",
       " ('update', 1),\n",
       " ('its', 1),\n",
       " ('announced', 1),\n",
       " ('Showcase', 1),\n",
       " ('premium', 1),\n",
       " ('affords', 1),\n",
       " ('online', 1),\n",
       " ('buyers', 1),\n",
       " ('opportunities', 1),\n",
       " ('reach', 1),\n",
       " ('target', 1),\n",
       " ('audiences', 1),\n",
       " ('rolled', 1),\n",
       " ('out', 1),\n",
       " ('packages', 1),\n",
       " ('Food', 1),\n",
       " ('News', 1),\n",
       " ('places', 1),\n",
       " ('fixed-cost', 1),\n",
       " ('hundreds', 1),\n",
       " ('publishers', 1),\n",
       " ('creators', 1),\n",
       " ('They', 1),\n",
       " ('join', 1),\n",
       " ('existing', 1),\n",
       " ('Sports', 1),\n",
       " ('Fashion/Beauty', 1),\n",
       " ('Entertainment', 1),\n",
       " ('categories', 1),\n",
       " ('And', 1),\n",
       " ('lastly', 1),\n",
       " ('unveiled', 1),\n",
       " ('Sponsorships', 1),\n",
       " ('which', 1),\n",
       " ('allow', 1),\n",
       " ('exclusively', 1),\n",
       " ('sponsor', 1),\n",
       " ('optionally', 1),\n",
       " ('have', 1),\n",
       " ('their', 1),\n",
       " ('appear', 1),\n",
       " ('similar', 1),\n",
       " ('themes', 1),\n",
       " ('When', 1),\n",
       " ('launched', 1),\n",
       " ('Watch', 1),\n",
       " ('18', 1),\n",
       " ('months', 1),\n",
       " ('ago', 1),\n",
       " ('build', 1),\n",
       " ('destination', 1),\n",
       " ('come', 1),\n",
       " ('together', 1),\n",
       " ('friends', 1),\n",
       " ('family', 1),\n",
       " ('catch', 1),\n",
       " ('started', 1),\n",
       " ('just', 1),\n",
       " ('US', 1),\n",
       " ('made', 1),\n",
       " ('closed', 1),\n",
       " ('platform', 1),\n",
       " ('Matthew', 1),\n",
       " ('Henick', 1),\n",
       " ('head', 1),\n",
       " ('said', 1),\n",
       " ('main', 1),\n",
       " ('feedback', 1),\n",
       " ('heard', 1),\n",
       " ('they', 1),\n",
       " ('wanted', 1),\n",
       " ('broader', 1),\n",
       " ('diverse', 1),\n",
       " ('set', 1),\n",
       " ('content.', 1),\n",
       " ('According', 1),\n",
       " ('100', 1),\n",
       " ('eligible', 1),\n",
       " ('43', 1),\n",
       " ('audience', 1),\n",
       " ('aged', 1),\n",
       " ('18-34', 1),\n",
       " ('demographic', 1),\n",
       " ('highly', 1),\n",
       " ('coveted', 1),\n",
       " ('compared', 1),\n",
       " ('estimated', 1),\n",
       " ('28', 1),\n",
       " ('Its', 1),\n",
       " ('other', 1),\n",
       " ('leg', 1),\n",
       " ('traditional', 1),\n",
       " ('mediums', 1),\n",
       " ('contends', 1),\n",
       " ('metrics', 1),\n",
       " ('abundance', 1),\n",
       " (':', 1),\n",
       " ('offers', 1),\n",
       " ('Total', 1),\n",
       " ('Digital', 1),\n",
       " ('offerings', 1),\n",
       " ('both', 1),\n",
       " ('in-house', 1),\n",
       " ('across', 1),\n",
       " ('13', 1),\n",
       " ('studies', 1),\n",
       " ('drove', 1),\n",
       " ('positive', 1),\n",
       " ('recall', 1),\n",
       " ('More', 1),\n",
       " ('400', 1),\n",
       " ('at', 1),\n",
       " ('least', 1),\n",
       " ('one', 1),\n",
       " ('every', 1),\n",
       " ('month', 1),\n",
       " ('75', 1),\n",
       " ('daily', 1),\n",
       " ('visitors', 1),\n",
       " ('consume', 1),\n",
       " ('says', 1),\n",
       " ('growth', 1),\n",
       " ('driven', 1),\n",
       " ('part', 1),\n",
       " ('investments', 1),\n",
       " ('original', 1),\n",
       " ('programming', 1),\n",
       " ('like', 1),\n",
       " ('animated', 1),\n",
       " ('comedy', 1),\n",
       " ('series', 1),\n",
       " ('Human', 1),\n",
       " ('Discoveries', 1),\n",
       " ('starring', 1),\n",
       " ('Zac', 1),\n",
       " ('Efron', 1),\n",
       " ('Anna', 1),\n",
       " ('Kendrick', 1),\n",
       " ('reboot', 1),\n",
       " ('MTV', 1),\n",
       " ('Real', 1),\n",
       " ('World', 1),\n",
       " ('local', 1),\n",
       " ('versions', 1),\n",
       " ('Mexico', 1),\n",
       " ('Thailand', 1),\n",
       " ('Returning', 1),\n",
       " ('Favor', 1),\n",
       " ('Red', 1),\n",
       " ('Table', 1),\n",
       " ('Talk', 1)]"
      ]
     },
     "execution_count": 14,
     "metadata": {},
     "output_type": "execute_result"
    }
   ],
   "source": [
    "nltk.FreqDist(tokens).most_common()"
   ]
  },
  {
   "cell_type": "code",
   "execution_count": 15,
   "metadata": {},
   "outputs": [],
   "source": [
    "%matplotlib inline"
   ]
  },
  {
   "cell_type": "code",
   "execution_count": 16,
   "metadata": {},
   "outputs": [
    {
     "data": {
      "image/png": "[encoded data removed]",
      "text/plain": [
       "<Figure size 432x288 with 1 Axes>"
      ]
     },
     "metadata": {
      "needs_background": "light"
     },
     "output_type": "display_data"
    }
   ],
   "source": [
    "nltk.FreqDist(tokens).plot(30, cumulative=False)"
   ]
  }
 ],
 "metadata": {
  "kernelspec": {
   "display_name": "Python 3",
   "language": "python",
   "name": "python3"
  },
  "language_info": {
   "codemirror_mode": {
    "name": "ipython",
    "version": 3
   },
   "file_extension": ".py",
   "mimetype": "text/x-python",
   "name": "python",
   "nbconvert_exporter": "python",
   "pygments_lexer": "ipython3",
   "version": "3.7.1"
  }
 },
 "nbformat": 4,
 "nbformat_minor": 2
}
